{
 "cells": [
  {
   "cell_type": "markdown",
   "metadata": {},
   "source": [
    "## 1.15 Isotonic Regression\n",
    "\n",
    "The class `IsotonicRegression` fits a non-decreasing real function to 1-dimensional data and solves the problem of minimizing $\\Sigma_{i}w_{i}(y_{i}-\\hat{y_{i}})^{2}$\n",
    "\n",
    "More info here: https://scikit-learn.org/stable/modules/isotonic.html"
   ]
  },
  {
   "cell_type": "code",
   "execution_count": null,
   "metadata": {},
   "outputs": [],
   "source": []
  }
 ],
 "metadata": {
  "kernelspec": {
   "display_name": "Python 3",
   "language": "python",
   "name": "python3"
  },
  "language_info": {
   "codemirror_mode": {
    "name": "ipython",
    "version": 3
   },
   "file_extension": ".py",
   "mimetype": "text/x-python",
   "name": "python",
   "nbconvert_exporter": "python",
   "pygments_lexer": "ipython3",
   "version": "3.8.5"
  }
 },
 "nbformat": 4,
 "nbformat_minor": 4
}
