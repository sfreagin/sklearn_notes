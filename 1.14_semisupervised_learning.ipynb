{
 "cells": [
  {
   "cell_type": "markdown",
   "metadata": {},
   "source": [
    "## 1.14 Semi-supervised learning\n",
    "\n",
    "**Semi-supervised learning** is a learning method where some of the training samples are not labeled. The sklearn estimators make use of this unalabeled data to better capture the overall shape of the underyling data distribution, and thus able to better generalize to new samples\n",
    "\n",
    "These algorithms perform well with very few labeled points and very many unlabeled points\n",
    "\n",
    "##### Special note: Unlabeled entries in $y$\n",
    "\n",
    "You must assign an identifier to unlabeled points when training the model with the $fit$ method. The implementations in sklearn use the integer value $(-1)$ as an identifier\n",
    "\n",
    "Also for string-type labels, the dtype of `y` should be object so it can contain strings and integers\n",
    "\n",
    "**Also note semi-supervised algorithms need to make certain assumptions about the distribution of the dataset for performance gains**"
   ]
  },
  {
   "cell_type": "markdown",
   "metadata": {},
   "source": [
    "### 1.14.1 Self Training\n",
    "\n",
    "The self-training implementation is based on *Yarowsky's algorithm*, where a given supervised classifier functions as a semi-supervised classifier, allowing it to learn from unlabeled data\n",
    "\n",
    "`SelfTrainingClassifier` can be called with any classifier that implements `predict_proba`; in each iteration the `base_classifier` parameter preddicts labels for the unlabeled samples and adds a subset of these labels to the labeled dataset\n",
    "\n",
    "The selection criterion include using a `threshold` on prediciton probabilities or by choosing `k_best` samples according to prediction probabilities\n",
    "\n",
    "###### Example - Effect of varying threshold for self-training\n",
    "https://scikit-learn.org/stable/auto_examples/semi_supervised/plot_self_training_varying_threshold.html#sphx-glr-auto-examples-semi-supervised-plot-self-training-varying-threshold-py"
   ]
  },
  {
   "cell_type": "code",
   "execution_count": 2,
   "metadata": {},
   "outputs": [],
   "source": [
    "import numpy as np\n",
    "import matplotlib.pyplot as plt\n",
    "\n",
    "from sklearn import datasets\n",
    "from sklearn.svm import SVC\n",
    "from sklearn.model_selection import StratifiedKFold\n",
    "from sklearn.semi_supervised import SelfTrainingClassifier\n",
    "from sklearn.metrics import accuracy_score\n",
    "from sklearn.utils import shuffle"
   ]
  },
  {
   "cell_type": "code",
   "execution_count": 3,
   "metadata": {},
   "outputs": [],
   "source": [
    "n_splits = 3\n",
    "\n",
    "X,y = datasets.load_breast_cancer(return_X_y=True)\n",
    "X,y = shuffle(X,y,random_state=42)\n",
    "\n",
    "y_true = y.copy()\n",
    "y[50:] = -1\n",
    "total_samples = y.shape[0]"
   ]
  },
  {
   "cell_type": "code",
   "execution_count": 4,
   "metadata": {},
   "outputs": [],
   "source": [
    "base_classifier = SVC(probability=True, gamma=0.001, random_state=42)"
   ]
  },
  {
   "cell_type": "code",
   "execution_count": 5,
   "metadata": {},
   "outputs": [
    {
     "data": {
      "image/png": "[encoded data removed]",
      "text/plain": [
       "<Figure size 432x288 with 3 Axes>"
      ]
     },
     "metadata": {
      "needs_background": "light"
     },
     "output_type": "display_data"
    }
   ],
   "source": [
    "#COPYPASTA\n",
    "x_values = np.arange(0.4, 1.05, 0.05)\n",
    "x_values = np.append(x_values, 0.99999)\n",
    "scores = np.empty((x_values.shape[0], n_splits))\n",
    "amount_labeled = np.empty((x_values.shape[0], n_splits))\n",
    "amount_iterations = np.empty((x_values.shape[0], n_splits))\n",
    "\n",
    "for (i, threshold) in enumerate(x_values):\n",
    "    self_training_clf = SelfTrainingClassifier(base_classifier, threshold=threshold)\n",
    "\n",
    "    # We need manual cross validation so that we don't treat -1 as a separate\n",
    "    # class when computing accuracy\n",
    "    skfolds = StratifiedKFold(n_splits=n_splits)\n",
    "    for fold, (train_index, test_index) in enumerate(skfolds.split(X, y)):\n",
    "        X_train = X[train_index]\n",
    "        y_train = y[train_index]\n",
    "        X_test = X[test_index]\n",
    "        y_test = y[test_index]\n",
    "        y_test_true = y_true[test_index]\n",
    "\n",
    "        self_training_clf.fit(X_train, y_train)\n",
    "\n",
    "        # The amount of labeled samples that at the end of fitting\n",
    "        amount_labeled[i, fold] = (\n",
    "            total_samples\n",
    "            - np.unique(self_training_clf.labeled_iter_, return_counts=True)[1][0]\n",
    "        )\n",
    "        # The last iteration the classifier labeled a sample in\n",
    "        amount_iterations[i, fold] = np.max(self_training_clf.labeled_iter_)\n",
    "\n",
    "        y_pred = self_training_clf.predict(X_test)\n",
    "        scores[i, fold] = accuracy_score(y_test_true, y_pred)\n",
    "\n",
    "\n",
    "ax1 = plt.subplot(211)\n",
    "ax1.errorbar(\n",
    "    x_values, scores.mean(axis=1), yerr=scores.std(axis=1), capsize=2, color=\"b\"\n",
    ")\n",
    "ax1.set_ylabel(\"Accuracy\", color=\"b\")\n",
    "ax1.tick_params(\"y\", colors=\"b\")\n",
    "\n",
    "ax2 = ax1.twinx()\n",
    "ax2.errorbar(\n",
    "    x_values,\n",
    "    amount_labeled.mean(axis=1),\n",
    "    yerr=amount_labeled.std(axis=1),\n",
    "    capsize=2,\n",
    "    color=\"g\",\n",
    ")\n",
    "ax2.set_ylim(bottom=0)\n",
    "ax2.set_ylabel(\"Amount of labeled samples\", color=\"g\")\n",
    "ax2.tick_params(\"y\", colors=\"g\")\n",
    "\n",
    "ax3 = plt.subplot(212, sharex=ax1)\n",
    "ax3.errorbar(\n",
    "    x_values,\n",
    "    amount_iterations.mean(axis=1),\n",
    "    yerr=amount_iterations.std(axis=1),\n",
    "    capsize=2,\n",
    "    color=\"b\",\n",
    ")\n",
    "ax3.set_ylim(bottom=0)\n",
    "ax3.set_ylabel(\"Amount of iterations\")\n",
    "ax3.set_xlabel(\"Threshold\")\n",
    "\n",
    "plt.show()"
   ]
  },
  {
   "cell_type": "markdown",
   "metadata": {},
   "source": [
    "###### Example - Decision boundary of semi-supervised classifiers versus SVM  on the Iris dataset\n",
    "https://scikit-learn.org/stable/auto_examples/semi_supervised/plot_semi_supervised_versus_svm_iris.html#sphx-glr-auto-examples-semi-supervised-plot-semi-supervised-versus-svm-iris-py"
   ]
  },
  {
   "cell_type": "markdown",
   "metadata": {},
   "source": [
    "### 1.14.2 Label Propagation\n",
    "\n",
    "**Label propagation** is the name given to several variations of semi-supervised graph inference algorithms. They are used for classification tasks, and they utilize kernel methods to project data into alternate dimensional spaces\n",
    "\n",
    "Scikit-learn provides two label propagation methods, `LabelPropagation` and `LabelSpreading`, both of which work  by constructing a *similarity graph* over all item in the input dataset. They differ in modifications to the similarity matrix and also the clamping effect on label distributions\n",
    "\n",
    "**Clamping** lets the algorithm change the weight on the true ground labeled data\n",
    "\n",
    "`LabelPropagation` performs hard clamping of input labels, meaning $\\alpha=0$. We can relax this to (say) $\\alpha=0.2$, meaning we always retain 80% of the original label distribution but the algorithm changes its confidence of the distribution within 20%. It uses the raw similarity matrix constructed from the data with no modifications.\n",
    "\n",
    "`LabelSpreading` minimizes a loss function that has regularization properties, and it is often more robust to noise. The algorithm iterates on a modified version of the original graph and normalizes the edge weights by computing the normalized graph Laplacian matrix (this procedure is also used in spectral clustering)\n",
    "\n",
    "###### Example - Label Propagation learning a complex structure\n",
    "https://scikit-learn.org/stable/auto_examples/semi_supervised/plot_label_propagation_structure.html#sphx-glr-auto-examples-semi-supervised-plot-label-propagation-structure-py"
   ]
  },
  {
   "cell_type": "code",
   "execution_count": 1,
   "metadata": {},
   "outputs": [],
   "source": [
    "import numpy as np\n",
    "import matplotlib.pyplot as plt\n",
    "\n",
    "from sklearn.semi_supervised import LabelSpreading\n",
    "from sklearn.datasets import make_circles"
   ]
  },
  {
   "cell_type": "code",
   "execution_count": 2,
   "metadata": {},
   "outputs": [],
   "source": [
    "# generate ring with inner box\n",
    "n_samples = 200\n",
    "X, y = make_circles(n_samples=n_samples, shuffle=False)\n",
    "outer, inner = 0, 1\n",
    "labels = np.full(n_samples, -1.0)\n",
    "labels[0] = outer\n",
    "labels[-1] = inner"
   ]
  },
  {
   "cell_type": "code",
   "execution_count": 3,
   "metadata": {},
   "outputs": [
    {
     "data": {
      "text/plain": [
       "LabelSpreading(alpha=0.8, kernel='knn')"
      ]
     },
     "execution_count": 3,
     "metadata": {},
     "output_type": "execute_result"
    }
   ],
   "source": [
    "#learn with label spreading\n",
    "label_spread = LabelSpreading(kernel='knn', alpha=0.8)\n",
    "label_spread.fit(X, labels)"
   ]
  },
  {
   "cell_type": "code",
   "execution_count": 4,
   "metadata": {},
   "outputs": [
    {
     "data": {
      "image/png": "[encoded data removed]",
      "text/plain": [
       "<Figure size 612x288 with 2 Axes>"
      ]
     },
     "metadata": {
      "needs_background": "light"
     },
     "output_type": "display_data"
    }
   ],
   "source": [
    "#COPYPASTA\n",
    "# Plot output labels\n",
    "output_labels = label_spread.transduction_\n",
    "plt.figure(figsize=(8.5, 4))\n",
    "plt.subplot(1, 2, 1)\n",
    "plt.scatter(\n",
    "    X[labels == outer, 0],\n",
    "    X[labels == outer, 1],\n",
    "    color=\"navy\",\n",
    "    marker=\"s\",\n",
    "    lw=0,\n",
    "    label=\"outer labeled\",\n",
    "    s=10,\n",
    ")\n",
    "plt.scatter(\n",
    "    X[labels == inner, 0],\n",
    "    X[labels == inner, 1],\n",
    "    color=\"c\",\n",
    "    marker=\"s\",\n",
    "    lw=0,\n",
    "    label=\"inner labeled\",\n",
    "    s=10,\n",
    ")\n",
    "plt.scatter(\n",
    "    X[labels == -1, 0],\n",
    "    X[labels == -1, 1],\n",
    "    color=\"darkorange\",\n",
    "    marker=\".\",\n",
    "    label=\"unlabeled\",\n",
    ")\n",
    "plt.legend(scatterpoints=1, shadow=False, loc=\"upper right\")\n",
    "plt.title(\"Raw data (2 classes=outer and inner)\")\n",
    "\n",
    "plt.subplot(1, 2, 2)\n",
    "output_label_array = np.asarray(output_labels)\n",
    "outer_numbers = np.where(output_label_array == outer)[0]\n",
    "inner_numbers = np.where(output_label_array == inner)[0]\n",
    "plt.scatter(\n",
    "    X[outer_numbers, 0],\n",
    "    X[outer_numbers, 1],\n",
    "    color=\"navy\",\n",
    "    marker=\"s\",\n",
    "    lw=0,\n",
    "    s=10,\n",
    "    label=\"outer learned\",\n",
    ")\n",
    "plt.scatter(\n",
    "    X[inner_numbers, 0],\n",
    "    X[inner_numbers, 1],\n",
    "    color=\"c\",\n",
    "    marker=\"s\",\n",
    "    lw=0,\n",
    "    s=10,\n",
    "    label=\"inner learned\",\n",
    ")\n",
    "plt.legend(scatterpoints=1, shadow=False, loc=\"upper right\")\n",
    "plt.title(\"Labels learned with Label Spreading (KNN)\")\n",
    "\n",
    "plt.subplots_adjust(left=0.07, bottom=0.07, right=0.93, top=0.92)\n",
    "plt.show()"
   ]
  },
  {
   "cell_type": "markdown",
   "metadata": {},
   "source": [
    "###### Example - Label Propagation digits: demonstrating performance\n",
    "https://scikit-learn.org/stable/auto_examples/semi_supervised/plot_label_propagation_digits.html#sphx-glr-auto-examples-semi-supervised-plot-label-propagation-digits-py"
   ]
  },
  {
   "cell_type": "code",
   "execution_count": 5,
   "metadata": {},
   "outputs": [],
   "source": [
    "import numpy as np\n",
    "import matplotlib.pyplot as plt\n",
    "\n",
    "from scipy import stats\n",
    "\n",
    "from sklearn import datasets\n",
    "from sklearn.semi_supervised import LabelSpreading\n",
    "from sklearn.metrics import confusion_matrix, classification_report"
   ]
  },
  {
   "cell_type": "code",
   "execution_count": 6,
   "metadata": {},
   "outputs": [],
   "source": [
    "digits = datasets.load_digits()\n",
    "rng = np.random.RandomState(2)\n",
    "\n",
    "indices = np.arange(len(digits.data))\n",
    "rng.shuffle(indices)"
   ]
  },
  {
   "cell_type": "code",
   "execution_count": 8,
   "metadata": {},
   "outputs": [],
   "source": [
    "X = digits.data[indices[:340]]\n",
    "y = digits.target[indices[:340]]\n",
    "images = digits.images[indices[:340]]"
   ]
  },
  {
   "cell_type": "code",
   "execution_count": 9,
   "metadata": {},
   "outputs": [],
   "source": [
    "#COPYPASTA\n",
    "n_total_samples = len(y)\n",
    "n_labeled_points = 40\n",
    "\n",
    "indices = np.arange(n_total_samples)\n",
    "\n",
    "unlabeled_set = indices[n_labeled_points:]\n",
    "\n",
    "# #############################################################################\n",
    "# Shuffle everything around\n",
    "y_train = np.copy(y)\n",
    "y_train[unlabeled_set] = -1"
   ]
  },
  {
   "cell_type": "code",
   "execution_count": 10,
   "metadata": {},
   "outputs": [],
   "source": [
    "lp_model = LabelSpreading(gamma=0.25, max_iter=20)\n",
    "lp_model.fit(X,y_train)\n",
    "\n",
    "predicted_labels = lp_model.transduction_[unlabeled_set]\n",
    "true_labels = y[unlabeled_set]"
   ]
  },
  {
   "cell_type": "code",
   "execution_count": 11,
   "metadata": {},
   "outputs": [
    {
     "name": "stdout",
     "output_type": "stream",
     "text": [
      "Label Spreading model: 40 labeled & 300 unlabeled points (340 total)\n",
      "              precision    recall  f1-score   support\n",
      "\n",
      "           0       1.00      1.00      1.00        27\n",
      "           1       0.82      1.00      0.90        37\n",
      "           2       1.00      0.86      0.92        28\n",
      "           3       1.00      0.80      0.89        35\n",
      "           4       0.92      1.00      0.96        24\n",
      "           5       0.74      0.94      0.83        34\n",
      "           6       0.89      0.96      0.92        25\n",
      "           7       0.94      0.89      0.91        35\n",
      "           8       1.00      0.68      0.81        31\n",
      "           9       0.81      0.88      0.84        24\n",
      "\n",
      "    accuracy                           0.90       300\n",
      "   macro avg       0.91      0.90      0.90       300\n",
      "weighted avg       0.91      0.90      0.90       300\n",
      "\n",
      "Confusion matrix\n",
      "[[27  0  0  0  0  0  0  0  0  0]\n",
      " [ 0 37  0  0  0  0  0  0  0  0]\n",
      " [ 0  1 24  0  0  0  2  1  0  0]\n",
      " [ 0  0  0 28  0  5  0  1  0  1]\n",
      " [ 0  0  0  0 24  0  0  0  0  0]\n",
      " [ 0  0  0  0  0 32  0  0  0  2]\n",
      " [ 0  0  0  0  0  1 24  0  0  0]\n",
      " [ 0  0  0  0  1  3  0 31  0  0]\n",
      " [ 0  7  0  0  0  0  1  0 21  2]\n",
      " [ 0  0  0  0  1  2  0  0  0 21]]\n"
     ]
    },
    {
     "data": {
      "image/png": "[encoded data removed]",
      "text/plain": [
       "<Figure size 504x360 with 10 Axes>"
      ]
     },
     "metadata": {},
     "output_type": "display_data"
    }
   ],
   "source": [
    "#COPYPASTA\n",
    "cm = confusion_matrix(true_labels, predicted_labels, labels=lp_model.classes_)\n",
    "\n",
    "print(\n",
    "    \"Label Spreading model: %d labeled & %d unlabeled points (%d total)\"\n",
    "    % (n_labeled_points, n_total_samples - n_labeled_points, n_total_samples)\n",
    ")\n",
    "\n",
    "print(classification_report(true_labels, predicted_labels))\n",
    "\n",
    "print(\"Confusion matrix\")\n",
    "print(cm)\n",
    "\n",
    "# #############################################################################\n",
    "# Calculate uncertainty values for each transduced distribution\n",
    "pred_entropies = stats.distributions.entropy(lp_model.label_distributions_.T)\n",
    "\n",
    "# #############################################################################\n",
    "# Pick the top 10 most uncertain labels\n",
    "uncertainty_index = np.argsort(pred_entropies)[-10:]\n",
    "\n",
    "# #############################################################################\n",
    "# Plot\n",
    "f = plt.figure(figsize=(7, 5))\n",
    "for index, image_index in enumerate(uncertainty_index):\n",
    "    image = images[image_index]\n",
    "\n",
    "    sub = f.add_subplot(2, 5, index + 1)\n",
    "    sub.imshow(image, cmap=plt.cm.gray_r)\n",
    "    plt.xticks([])\n",
    "    plt.yticks([])\n",
    "    sub.set_title(\n",
    "        \"predict: %i\\ntrue: %i\" % (lp_model.transduction_[image_index], y[image_index])\n",
    "    )\n",
    "\n",
    "f.suptitle(\"Learning with small amount of labeled data\")\n",
    "plt.show()"
   ]
  },
  {
   "cell_type": "markdown",
   "metadata": {},
   "source": [
    "###### Example - Label Propagation digits active learning\n",
    "https://scikit-learn.org/stable/auto_examples/semi_supervised/plot_label_propagation_digits_active_learning.html#sphx-glr-auto-examples-semi-supervised-plot-label-propagation-digits-active-learning-py"
   ]
  },
  {
   "cell_type": "code",
   "execution_count": null,
   "metadata": {},
   "outputs": [],
   "source": []
  }
 ],
 "metadata": {
  "kernelspec": {
   "display_name": "Python 3",
   "language": "python",
   "name": "python3"
  },
  "language_info": {
   "codemirror_mode": {
    "name": "ipython",
    "version": 3
   },
   "file_extension": ".py",
   "mimetype": "text/x-python",
   "name": "python",
   "nbconvert_exporter": "python",
   "pygments_lexer": "ipython3",
   "version": "3.8.5"
  }
 },
 "nbformat": 4,
 "nbformat_minor": 4
}
