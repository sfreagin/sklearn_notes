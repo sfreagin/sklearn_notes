{
 "cells": [
  {
   "cell_type": "markdown",
   "metadata": {},
   "source": [
    "### 1.11.5 Histogram-Based Gradient Boosting\n",
    "\n",
    "Scikit-learn has two implementations of histogram-based gradient boosters:\n",
    "* `HistGradientBoostingClassifier`\n",
    "* `HistGradientBoostingRegressor`\n",
    "\n",
    "Histogram-based estimators can be **orders of magnitude** faster than other boosting classifiers, when the number of samples is larger than tens of thousands.\n",
    "\n",
    "###### Example - Partial Dependence and Individual Conditional Expectation Plots\n",
    "https://scikit-learn.org/stable/auto_examples/inspection/plot_partial_dependence.html#sphx-glr-auto-examples-inspection-plot-partial-dependence-py\n",
    "\n",
    "#### 1.11.5.1 Usage\n",
    "\n",
    "Most parameters are same as `GradientBoostingClassifier` and `GradientBoostingRegressor` except `max_iter` parameter replaces `n_estimators`, controlling the number of iterations"
   ]
  },
  {
   "cell_type": "code",
   "execution_count": 1,
   "metadata": {},
   "outputs": [],
   "source": [
    "from sklearn.ensemble import HistGradientBoostingClassifier\n",
    "from sklearn.datasets import make_hastie_10_2"
   ]
  },
  {
   "cell_type": "code",
   "execution_count": 2,
   "metadata": {},
   "outputs": [],
   "source": [
    "X, y = make_hastie_10_2(random_state=0)\n",
    "\n",
    "X_train, X_test = X[:2000], X[2000:]\n",
    "y_train, y_test = y[:2000], y[2000:]"
   ]
  },
  {
   "cell_type": "code",
   "execution_count": 3,
   "metadata": {},
   "outputs": [
    {
     "data": {
      "text/plain": [
       "0.8965"
      ]
     },
     "execution_count": 3,
     "metadata": {},
     "output_type": "execute_result"
    }
   ],
   "source": [
    "clf = HistGradientBoostingClassifier(max_iter=100).fit(X_train, y_train)\n",
    "\n",
    "clf.score(X_test, y_test)"
   ]
  },
  {
   "cell_type": "markdown",
   "metadata": {},
   "source": [
    "For histogram-gradient boosting algorithms, the number of bins used to bin the data is controlled by the `max_bins` parameter. It's generally recommended to use as many bins as possible, which is also the default setting\n",
    "\n",
    "Note: **early stopping is enabled by default if number of samples is greater than 10,000**\n",
    "\n",
    "#### 1.11.5.2 Missing values support\n",
    "The histogram gradient boosting algorithms have built-in support for missing values (NaNs). During training, the tree grower learns at each split point whether samples with missing values should go left or rightt based on the potential gain\n",
    "\n",
    "Example:"
   ]
  },
  {
   "cell_type": "code",
   "execution_count": 4,
   "metadata": {},
   "outputs": [],
   "source": [
    "from sklearn.ensemble import HistGradientBoostingClassifier\n",
    "import numpy as np"
   ]
  },
  {
   "cell_type": "code",
   "execution_count": 6,
   "metadata": {},
   "outputs": [
    {
     "data": {
      "text/plain": [
       "array([0, 0, 1, 1])"
      ]
     },
     "execution_count": 6,
     "metadata": {},
     "output_type": "execute_result"
    }
   ],
   "source": [
    "X = np.array([0,1,2,np.nan]).reshape(-1,1)\n",
    "y = [0,0,1,1]\n",
    "\n",
    "gbdt = HistGradientBoostingClassifier(min_samples_leaf=1).fit(X,y)\n",
    "gbdt.predict(X)"
   ]
  },
  {
   "cell_type": "markdown",
   "metadata": {},
   "source": [
    "When the missingness pattern is predictive, the splits can be done on whether the feature value is missing or not:"
   ]
  },
  {
   "cell_type": "code",
   "execution_count": 7,
   "metadata": {},
   "outputs": [
    {
     "data": {
      "text/plain": [
       "array([0, 0, 1, 1])"
      ]
     },
     "execution_count": 7,
     "metadata": {},
     "output_type": "execute_result"
    }
   ],
   "source": [
    "X = np.array([0,1,2,np.nan]).reshape(-1,1)\n",
    "y = [0,0,1,1]\n",
    "\n",
    "gbdt = HistGradientBoostingClassifier(min_samples_leaf=1, max_depth=2,\n",
    "                                     learning_rate=1, max_iter=1)\n",
    "\n",
    "gbdt.fit(X,y)\n",
    "gbdt.predict(X)"
   ]
  },
  {
   "cell_type": "code",
   "execution_count": null,
   "metadata": {},
   "outputs": [],
   "source": []
  }
 ],
 "metadata": {
  "kernelspec": {
   "display_name": "Python 3",
   "language": "python",
   "name": "python3"
  },
  "language_info": {
   "codemirror_mode": {
    "name": "ipython",
    "version": 3
   },
   "file_extension": ".py",
   "mimetype": "text/x-python",
   "name": "python",
   "nbconvert_exporter": "python",
   "pygments_lexer": "ipython3",
   "version": "3.8.5"
  }
 },
 "nbformat": 4,
 "nbformat_minor": 4
}
