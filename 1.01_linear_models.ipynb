{
 "cells": [
  {
   "cell_type": "markdown",
   "metadata": {},
   "source": [
    "## 1.1 Linear Models"
   ]
  },
  {
   "cell_type": "markdown",
   "metadata": {},
   "source": [
    "#### 1.1.1 Ordinary Least Squares (Linear Regression)"
   ]
  },
  {
   "cell_type": "code",
   "execution_count": 1,
   "metadata": {},
   "outputs": [],
   "source": [
    "from sklearn import linear_model"
   ]
  },
  {
   "cell_type": "code",
   "execution_count": 3,
   "metadata": {},
   "outputs": [
    {
     "data": {
      "text/plain": [
       "array([0.5, 0.5])"
      ]
     },
     "execution_count": 3,
     "metadata": {},
     "output_type": "execute_result"
    }
   ],
   "source": [
    "reg = linear_model.LinearRegression()\n",
    "\n",
    "reg.fit([[0,0],[1,1],[2,2]],[0,1,2])\n",
    "reg.coef_"
   ]
  },
  {
   "cell_type": "markdown",
   "metadata": {},
   "source": [
    "Another example"
   ]
  },
  {
   "cell_type": "code",
   "execution_count": 4,
   "metadata": {},
   "outputs": [],
   "source": [
    "import matplotlib.pyplot as plt\n",
    "import numpy as np\n",
    "\n",
    "from sklearn import datasets, linear_model\n",
    "from sklearn.metrics import mean_squared_error, r2_score"
   ]
  },
  {
   "cell_type": "code",
   "execution_count": 7,
   "metadata": {},
   "outputs": [],
   "source": [
    "#load dataset\n",
    "diabetes_X, diabetes_y = datasets.load_diabetes(return_X_y=True)\n",
    "\n",
    "#use only one feature\n",
    "diabetes_X = diabetes_X[:, np.newaxis, 2]"
   ]
  },
  {
   "cell_type": "code",
   "execution_count": 8,
   "metadata": {},
   "outputs": [],
   "source": [
    "#train test split on the data\n",
    "diabetes_X_train = diabetes_X[:-20]\n",
    "diabetes_X_test = diabetes_X[-20:]\n",
    "\n",
    "#train test split on the targets\n",
    "diabetes_y_train = diabetes_y[:-20]\n",
    "diabetes_y_test = diabetes_y[-20:]"
   ]
  },
  {
   "cell_type": "code",
   "execution_count": 9,
   "metadata": {},
   "outputs": [
    {
     "data": {
      "text/plain": [
       "LinearRegression()"
      ]
     },
     "execution_count": 9,
     "metadata": {},
     "output_type": "execute_result"
    }
   ],
   "source": [
    "#instantiate linear regression object and train the model\n",
    "regr = linear_model.LinearRegression()\n",
    "\n",
    "regr.fit(diabetes_X_train, diabetes_y_train)"
   ]
  },
  {
   "cell_type": "code",
   "execution_count": 10,
   "metadata": {},
   "outputs": [],
   "source": [
    "#make predictions using the test set\n",
    "diabetes_y_pred = regr.predict(diabetes_X_test)"
   ]
  },
  {
   "cell_type": "code",
   "execution_count": 14,
   "metadata": {},
   "outputs": [
    {
     "name": "stdout",
     "output_type": "stream",
     "text": [
      "Coefficients: [938.23786125]\n",
      "MSE: 2548.0723987259703\n",
      "R2 score: 0.47257544798227136\n"
     ]
    }
   ],
   "source": [
    "#print coefficients\n",
    "print(f\"Coefficients: {regr.coef_}\")\n",
    "\n",
    "print(f'MSE: {mean_squared_error(diabetes_y_test, diabetes_y_pred)}')\n",
    "print(f\"R2 score: {r2_score(diabetes_y_test, diabetes_y_pred)}\")"
   ]
  },
  {
   "cell_type": "code",
   "execution_count": 18,
   "metadata": {},
   "outputs": [
    {
     "data": {
      "text/plain": [
       "[<matplotlib.lines.Line2D at 0x23ff3cc9f40>]"
      ]
     },
     "execution_count": 18,
     "metadata": {},
     "output_type": "execute_result"
    },
    {
     "data": {
      "image/png": "[encoded data removed]",
      "text/plain": [
       "<Figure size 432x288 with 1 Axes>"
      ]
     },
     "metadata": {
      "needs_background": "light"
     },
     "output_type": "display_data"
    }
   ],
   "source": [
    "#plot outputs\n",
    "plt.scatter(diabetes_X_test, diabetes_y_test)\n",
    "plt.plot(diabetes_X_test, diabetes_y_pred, color='blue', linewidth=3)\n"
   ]
  },
  {
   "cell_type": "markdown",
   "metadata": {},
   "source": [
    "#### 1.1.1.1 Non-Negative Least Squares"
   ]
  },
  {
   "cell_type": "code",
   "execution_count": 19,
   "metadata": {},
   "outputs": [],
   "source": [
    "import numpy as np\n",
    "import matplotlib.pyplot as plt\n",
    "\n",
    "from sklearn.metrics import r2_score"
   ]
  },
  {
   "cell_type": "code",
   "execution_count": 20,
   "metadata": {},
   "outputs": [],
   "source": [
    "#optional - set a random seed\n",
    "np.random.seed(42)\n",
    "\n",
    "#generate random data\n",
    "n_samples = 200\n",
    "n_features = 50\n",
    "X = np.random.randn(n_samples, n_features)\n",
    "true_coef = 3 * np.random.randn(n_features)\n",
    "\n",
    "#threshold coefficients to ensure they are non-negative\n",
    "true_coef[true_coef < 0] = 0\n",
    "\n",
    "y = np.dot(X, true_coef)\n",
    "\n",
    "#add noise\n",
    "y += 5 * np.random.normal(size = (n_samples,))"
   ]
  },
  {
   "cell_type": "code",
   "execution_count": 21,
   "metadata": {},
   "outputs": [],
   "source": [
    "#split the data\n",
    "from sklearn.model_selection import train_test_split\n",
    "\n",
    "X_train, X_test, y_train, y_test = train_test_split(X,y, test_size = 0.5)"
   ]
  },
  {
   "cell_type": "code",
   "execution_count": 22,
   "metadata": {},
   "outputs": [],
   "source": [
    "#fit the non-negative least squares\n",
    "from sklearn.linear_model import LinearRegression\n",
    "\n",
    "reg_nnls = LinearRegression(positive = True)\n"
   ]
  },
  {
   "cell_type": "code",
   "execution_count": 24,
   "metadata": {},
   "outputs": [
    {
     "name": "stdout",
     "output_type": "stream",
     "text": [
      "NNLS R2 score: 0.8225220806196525\n"
     ]
    }
   ],
   "source": [
    "#make predictions and score\n",
    "y_pred_nnls = reg_nnls.fit(X_train, y_train).predict(X_test)\n",
    "r2_score_nnls = r2_score(y_test, y_pred_nnls)\n",
    "\n",
    "print(f\"NNLS R2 score: {r2_score_nnls}\")"
   ]
  },
  {
   "cell_type": "code",
   "execution_count": 25,
   "metadata": {},
   "outputs": [
    {
     "name": "stdout",
     "output_type": "stream",
     "text": [
      "OLS R2 score: 0.7436926291700343\n"
     ]
    }
   ],
   "source": [
    "#fit an OLS\n",
    "reg_ols = LinearRegression()\n",
    "\n",
    "y_pred_ols = reg_ols.fit(X_train, y_train).predict(X_test)\n",
    "r2_score_ols = r2_score(y_test, y_pred_ols)\n",
    "\n",
    "print(f\"OLS R2 score: {r2_score_ols}\")"
   ]
  },
  {
   "cell_type": "code",
   "execution_count": 26,
   "metadata": {},
   "outputs": [
    {
     "data": {
      "text/plain": [
       "Text(0, 0.5, 'NNLS regression coefficients')"
      ]
     },
     "execution_count": 26,
     "metadata": {},
     "output_type": "execute_result"
    },
    {
     "data": {
      "image/png": "[encoded data removed]",
      "text/plain": [
       "<Figure size 432x288 with 1 Axes>"
      ]
     },
     "metadata": {
      "needs_background": "light"
     },
     "output_type": "display_data"
    }
   ],
   "source": [
    "fig, ax = plt.subplots()\n",
    "ax.plot(reg_ols.coef_, reg_nnls.coef_, linewidth=0, marker=\".\")\n",
    "\n",
    "low_x, high_x = ax.get_xlim()\n",
    "low_y, high_y = ax.get_ylim()\n",
    "low = max(low_x, low_y)\n",
    "high = min(high_x, high_y)\n",
    "ax.plot([low, high], [low, high], ls=\"--\", c=\".3\", alpha=0.5)\n",
    "ax.set_xlabel(\"OLS regression coefficients\", fontweight=\"bold\")\n",
    "ax.set_ylabel(\"NNLS regression coefficients\", fontweight=\"bold\")"
   ]
  },
  {
   "cell_type": "markdown",
   "metadata": {},
   "source": [
    "### 1.1.2 Ridge regression and classification"
   ]
  },
  {
   "cell_type": "markdown",
   "metadata": {},
   "source": [
    "#### 1.1.2.1 Regression"
   ]
  },
  {
   "cell_type": "code",
   "execution_count": 27,
   "metadata": {},
   "outputs": [
    {
     "data": {
      "text/plain": [
       "Ridge(alpha=0.5)"
      ]
     },
     "execution_count": 27,
     "metadata": {},
     "output_type": "execute_result"
    }
   ],
   "source": [
    "from sklearn import linear_model\n",
    "\n",
    "reg = linear_model.Ridge(alpha = 0.5)\n",
    "\n",
    "reg.fit([[0,0], [0,0], [1,1]], [0, 0.1, 1])"
   ]
  },
  {
   "cell_type": "code",
   "execution_count": 28,
   "metadata": {},
   "outputs": [
    {
     "data": {
      "text/plain": [
       "array([0.34545455, 0.34545455])"
      ]
     },
     "execution_count": 28,
     "metadata": {},
     "output_type": "execute_result"
    }
   ],
   "source": [
    "reg.coef_"
   ]
  },
  {
   "cell_type": "code",
   "execution_count": 29,
   "metadata": {},
   "outputs": [
    {
     "data": {
      "text/plain": [
       "0.1363636363636364"
      ]
     },
     "execution_count": 29,
     "metadata": {},
     "output_type": "execute_result"
    }
   ],
   "source": [
    "reg.intercept_"
   ]
  },
  {
   "cell_type": "markdown",
   "metadata": {},
   "source": [
    "Another example"
   ]
  },
  {
   "cell_type": "code",
   "execution_count": 30,
   "metadata": {},
   "outputs": [],
   "source": [
    "import numpy as np\n",
    "import matplotlib.pyplot as plt\n",
    "\n",
    "from sklearn import linear_model"
   ]
  },
  {
   "cell_type": "code",
   "execution_count": 37,
   "metadata": {},
   "outputs": [],
   "source": [
    "#X is the 10x0 Hilbert matrix (??)\n",
    "X = 1.0 / (np.arange(1,11) + np.arange(0,10)[:, np.newaxis])\n",
    "\n",
    "y = np.ones(10)"
   ]
  },
  {
   "cell_type": "code",
   "execution_count": 38,
   "metadata": {},
   "outputs": [
    {
     "data": {
      "text/plain": [
       "array([[1.        , 0.5       , 0.33333333, 0.25      , 0.2       ,\n",
       "        0.16666667, 0.14285714, 0.125     , 0.11111111, 0.1       ],\n",
       "       [0.5       , 0.33333333, 0.25      , 0.2       , 0.16666667,\n",
       "        0.14285714, 0.125     , 0.11111111, 0.1       , 0.09090909],\n",
       "       [0.33333333, 0.25      , 0.2       , 0.16666667, 0.14285714,\n",
       "        0.125     , 0.11111111, 0.1       , 0.09090909, 0.08333333],\n",
       "       [0.25      , 0.2       , 0.16666667, 0.14285714, 0.125     ,\n",
       "        0.11111111, 0.1       , 0.09090909, 0.08333333, 0.07692308],\n",
       "       [0.2       , 0.16666667, 0.14285714, 0.125     , 0.11111111,\n",
       "        0.1       , 0.09090909, 0.08333333, 0.07692308, 0.07142857],\n",
       "       [0.16666667, 0.14285714, 0.125     , 0.11111111, 0.1       ,\n",
       "        0.09090909, 0.08333333, 0.07692308, 0.07142857, 0.06666667],\n",
       "       [0.14285714, 0.125     , 0.11111111, 0.1       , 0.09090909,\n",
       "        0.08333333, 0.07692308, 0.07142857, 0.06666667, 0.0625    ],\n",
       "       [0.125     , 0.11111111, 0.1       , 0.09090909, 0.08333333,\n",
       "        0.07692308, 0.07142857, 0.06666667, 0.0625    , 0.05882353],\n",
       "       [0.11111111, 0.1       , 0.09090909, 0.08333333, 0.07692308,\n",
       "        0.07142857, 0.06666667, 0.0625    , 0.05882353, 0.05555556],\n",
       "       [0.1       , 0.09090909, 0.08333333, 0.07692308, 0.07142857,\n",
       "        0.06666667, 0.0625    , 0.05882353, 0.05555556, 0.05263158]])"
      ]
     },
     "execution_count": 38,
     "metadata": {},
     "output_type": "execute_result"
    }
   ],
   "source": [
    "X"
   ]
  },
  {
   "cell_type": "code",
   "execution_count": 39,
   "metadata": {},
   "outputs": [
    {
     "data": {
      "text/plain": [
       "array([1., 1., 1., 1., 1., 1., 1., 1., 1., 1.])"
      ]
     },
     "execution_count": 39,
     "metadata": {},
     "output_type": "execute_result"
    }
   ],
   "source": [
    "y"
   ]
  },
  {
   "cell_type": "code",
   "execution_count": 40,
   "metadata": {},
   "outputs": [],
   "source": [
    "#compute paths\n",
    "n_alphas = 200\n",
    "alphas = np.logspace(-10, -2, n_alphas)\n",
    "\n",
    "coefs = []\n",
    "\n",
    "for a in alphas:\n",
    "    ridge = linear_model.Ridge(alpha = a, fit_intercept=False)\n",
    "    ridge.fit(X, y)\n",
    "    coefs.append(ridge.coef_)"
   ]
  },
  {
   "cell_type": "code",
   "execution_count": 41,
   "metadata": {},
   "outputs": [
    {
     "data": {
      "image/png": "[encoded data removed]",
      "text/plain": [
       "<Figure size 432x288 with 1 Axes>"
      ]
     },
     "metadata": {
      "needs_background": "light"
     },
     "output_type": "display_data"
    }
   ],
   "source": [
    "ax = plt.gca()\n",
    "\n",
    "ax.plot(alphas, coefs)\n",
    "ax.set_xscale(\"log\")\n",
    "ax.set_xlim(ax.get_xlim()[::-1])  # reverse axis\n",
    "plt.xlabel(\"alpha\")\n",
    "plt.ylabel(\"weights\")\n",
    "plt.title(\"Ridge coefficients as a function of the regularization\")\n",
    "plt.axis(\"tight\")\n",
    "plt.show()"
   ]
  },
  {
   "cell_type": "markdown",
   "metadata": {},
   "source": [
    "Ridge complexity has the same order of magnitude as OLS complexity"
   ]
  },
  {
   "cell_type": "markdown",
   "metadata": {},
   "source": [
    "#### 1.1.2.4 Setting the regularization parameter: leave-one-out Cross Validation\n",
    "\n",
    "RidgeCV implements ridge regression with built-in cross-validation of the alpha parameter"
   ]
  },
  {
   "cell_type": "code",
   "execution_count": 42,
   "metadata": {},
   "outputs": [],
   "source": [
    "import numpy as np\n",
    "from sklearn import linear_model"
   ]
  },
  {
   "cell_type": "code",
   "execution_count": 44,
   "metadata": {},
   "outputs": [
    {
     "data": {
      "text/plain": [
       "RidgeCV(alphas=array([1.e-06, 1.e-05, 1.e-04, 1.e-03, 1.e-02, 1.e-01, 1.e+00, 1.e+01,\n",
       "       1.e+02, 1.e+03, 1.e+04, 1.e+05, 1.e+06]))"
      ]
     },
     "execution_count": 44,
     "metadata": {},
     "output_type": "execute_result"
    }
   ],
   "source": [
    "reg = linear_model.RidgeCV(alphas = np.logspace(-6,6,13))\n",
    "\n",
    "reg.fit([[0,0], [0,0], [1,1]], [0, 0.1, 1])"
   ]
  },
  {
   "cell_type": "code",
   "execution_count": 45,
   "metadata": {},
   "outputs": [
    {
     "data": {
      "text/plain": [
       "0.01"
      ]
     },
     "execution_count": 45,
     "metadata": {},
     "output_type": "execute_result"
    }
   ],
   "source": [
    "reg.alpha_"
   ]
  },
  {
   "cell_type": "markdown",
   "metadata": {},
   "source": [
    "### 1.1.3 Lasso\n",
    "\n",
    "The Lasso is **a linear model that estimates sparse coefficients**\n",
    "\n",
    "It tends to prefer solutions with fewer non-zero coefficients, which can reduces the number of features that will actually affect the solution"
   ]
  },
  {
   "cell_type": "code",
   "execution_count": 46,
   "metadata": {},
   "outputs": [],
   "source": [
    "from sklearn import linear_model"
   ]
  },
  {
   "cell_type": "code",
   "execution_count": 47,
   "metadata": {},
   "outputs": [
    {
     "data": {
      "text/plain": [
       "Lasso(alpha=0.1)"
      ]
     },
     "execution_count": 47,
     "metadata": {},
     "output_type": "execute_result"
    }
   ],
   "source": [
    "reg = linear_model.Lasso(alpha = 0.1)\n",
    "reg.fit([[0,0], [1,1]], [0,1])"
   ]
  },
  {
   "cell_type": "code",
   "execution_count": 49,
   "metadata": {},
   "outputs": [
    {
     "data": {
      "text/plain": [
       "array([0.8])"
      ]
     },
     "execution_count": 49,
     "metadata": {},
     "output_type": "execute_result"
    }
   ],
   "source": [
    "reg.predict([[1,1]])"
   ]
  },
  {
   "cell_type": "markdown",
   "metadata": {},
   "source": [
    "=============================================\n",
    "* Another example - Lasso and Elastic Net for Sparse Signals"
   ]
  },
  {
   "cell_type": "code",
   "execution_count": 51,
   "metadata": {},
   "outputs": [],
   "source": [
    "import numpy as np\n",
    "import matplotlib.pyplot as plt\n",
    "\n",
    "from sklearn.metrics import r2_score"
   ]
  },
  {
   "cell_type": "code",
   "execution_count": 52,
   "metadata": {},
   "outputs": [],
   "source": [
    "np.random.seed(42)\n",
    "\n",
    "#generate sparse data\n",
    "n_samples, n_features = 50, 100\n",
    "X = np.random.randn(n_samples, n_features)"
   ]
  },
  {
   "cell_type": "code",
   "execution_count": 53,
   "metadata": {},
   "outputs": [
    {
     "data": {
      "text/plain": [
       "array([[ 0.49671415, -0.1382643 ,  0.64768854, ...,  0.26105527,\n",
       "         0.00511346, -0.23458713],\n",
       "       [-1.41537074, -0.42064532, -0.34271452, ...,  0.15372511,\n",
       "         0.05820872, -1.1429703 ],\n",
       "       [ 0.35778736,  0.56078453,  1.08305124, ...,  0.30729952,\n",
       "         0.81286212,  0.62962884],\n",
       "       ...,\n",
       "       [-0.992866  , -1.44520526,  0.66626967, ..., -1.94937176,\n",
       "        -2.05035746,  0.73918049],\n",
       "       [ 0.50702027, -0.05739537, -1.3954485 , ..., -1.12004742,\n",
       "         0.67091125,  0.60379052],\n",
       "       [-0.39187677, -1.01776431, -1.02740355, ...,  3.1129102 ,\n",
       "         0.80803619, -0.8480656 ]])"
      ]
     },
     "execution_count": 53,
     "metadata": {},
     "output_type": "execute_result"
    }
   ],
   "source": [
    "X"
   ]
  },
  {
   "cell_type": "code",
   "execution_count": 60,
   "metadata": {},
   "outputs": [],
   "source": [
    "#decreasing coefficients with alternated signs for visualization\n",
    "idx = np.arange(n_features)\n",
    "coef = (-1)** idx * np.exp(-idx / 10)\n",
    "\n",
    "#sparsify coef\n",
    "coef[10:] = 0\n",
    "\n",
    "y = np.dot(X, coef)\n",
    "\n",
    "#add noise\n",
    "y += 0.01 * np.random.normal(size = n_samples)"
   ]
  },
  {
   "cell_type": "code",
   "execution_count": 61,
   "metadata": {},
   "outputs": [
    {
     "data": {
      "text/plain": [
       "array([ 0.05868774,  0.01573947, -1.72365514,  1.0720574 , -2.42506067,\n",
       "       -2.05349311, -0.76568952, -5.61060388,  3.0029248 , -1.80683056,\n",
       "        2.20123171,  6.61372855, -1.17800038,  0.06802314, -1.53573425,\n",
       "        0.1122106 , -1.62186833, -0.1906823 ,  1.0707779 ,  0.44898261,\n",
       "       -2.04287716, -3.35829499,  3.09247636,  1.19401381, -1.09040506,\n",
       "        0.56876276, -1.74495231, -0.90828142,  0.80771497, -2.22494833,\n",
       "        0.01749412, -1.65066486, -1.8008078 ,  3.1278658 ,  1.42396057,\n",
       "        2.91664859,  1.12743261, -1.45182882, -0.98781938,  4.89674593,\n",
       "       -4.08959078, -1.57164298,  3.35542511, -1.03076004, -2.03530214,\n",
       "       -1.12951198, -1.07915963,  2.35449225,  0.82627719,  0.58702813])"
      ]
     },
     "execution_count": 61,
     "metadata": {},
     "output_type": "execute_result"
    }
   ],
   "source": [
    "y"
   ]
  },
  {
   "cell_type": "code",
   "execution_count": 64,
   "metadata": {},
   "outputs": [],
   "source": [
    "#split the data\n",
    "n_samples = X.shape[0]\n",
    "\n",
    "X_train, y_train = X[: n_samples // 2], y[: n_samples // 2]\n",
    "X_test, y_test = X[n_samples // 2 :], y[n_samples // 2 :]"
   ]
  },
  {
   "cell_type": "code",
   "execution_count": 65,
   "metadata": {},
   "outputs": [],
   "source": [
    "# Lasso\n",
    "from sklearn.linear_model import Lasso"
   ]
  },
  {
   "cell_type": "code",
   "execution_count": 66,
   "metadata": {},
   "outputs": [],
   "source": [
    "lasso = Lasso(alpha = 0.1)\n",
    "\n",
    "y_pred_lasso = lasso.fit(X_train, y_train).predict(X_test)\n",
    "r2_score_lasso = r2_score(y_test, y_pred_lasso)"
   ]
  },
  {
   "cell_type": "code",
   "execution_count": 68,
   "metadata": {},
   "outputs": [
    {
     "name": "stdout",
     "output_type": "stream",
     "text": [
      "Lasso(alpha=0.1)\n",
      "Lasso R2 score: 0.6580638417732383\n"
     ]
    }
   ],
   "source": [
    "print(lasso)\n",
    "print(f\"Lasso R2 score: {r2_score_lasso}\")"
   ]
  },
  {
   "cell_type": "code",
   "execution_count": 70,
   "metadata": {},
   "outputs": [],
   "source": [
    "#ElasticNet\n",
    "from sklearn.linear_model import ElasticNet"
   ]
  },
  {
   "cell_type": "code",
   "execution_count": 72,
   "metadata": {},
   "outputs": [],
   "source": [
    "enet = ElasticNet(alpha = 0.1, l1_ratio=0.7)\n",
    "\n",
    "y_pred_enet = enet.fit(X_train, y_train).predict(X_test)\n",
    "r2_score_enet = r2_score(y_test, y_pred_enet)"
   ]
  },
  {
   "cell_type": "code",
   "execution_count": 75,
   "metadata": {},
   "outputs": [
    {
     "name": "stdout",
     "output_type": "stream",
     "text": [
      "ElasticNet(alpha=0.1, l1_ratio=0.7)\n",
      "ElasticNet R2 score on test data: 0.6425152496145801\n"
     ]
    }
   ],
   "source": [
    "print(enet)\n",
    "print(f\"ElasticNet R2 score on test data: {r2_score_enet}\")"
   ]
  },
  {
   "cell_type": "code",
   "execution_count": 76,
   "metadata": {},
   "outputs": [
    {
     "data": {
      "image/png": "[encoded data removed]",
      "text/plain": [
       "<Figure size 432x288 with 1 Axes>"
      ]
     },
     "metadata": {
      "needs_background": "light"
     },
     "output_type": "display_data"
    }
   ],
   "source": [
    "m, s, _ = plt.stem(\n",
    "    np.where(enet.coef_)[0],\n",
    "    enet.coef_[enet.coef_ != 0],\n",
    "    markerfmt=\"x\",\n",
    "    label=\"Elastic net coefficients\",\n",
    "    use_line_collection=True,\n",
    ")\n",
    "plt.setp([m, s], color=\"#2ca02c\")\n",
    "m, s, _ = plt.stem(\n",
    "    np.where(lasso.coef_)[0],\n",
    "    lasso.coef_[lasso.coef_ != 0],\n",
    "    markerfmt=\"x\",\n",
    "    label=\"Lasso coefficients\",\n",
    "    use_line_collection=True,\n",
    ")\n",
    "plt.setp([m, s], color=\"#ff7f0e\")\n",
    "plt.stem(\n",
    "    np.where(coef)[0],\n",
    "    coef[coef != 0],\n",
    "    label=\"true coefficients\",\n",
    "    markerfmt=\"bx\",\n",
    "    use_line_collection=True,\n",
    ")\n",
    "\n",
    "plt.legend(loc=\"best\")\n",
    "plt.title(\n",
    "    \"Lasso $R^2$: %.3f, Elastic Net $R^2$: %.3f\" % (r2_score_lasso, r2_score_enet)\n",
    ")\n",
    "plt.show()"
   ]
  },
  {
   "cell_type": "markdown",
   "metadata": {},
   "source": [
    "### 1.1.4 Multi-task Lasso"
   ]
  },
  {
   "cell_type": "markdown",
   "metadata": {},
   "source": [
    "MultiTaskLasso is **a linear model that estimates sparse coefficients for multiple regression problems jointly**, where y is a 2D array"
   ]
  },
  {
   "cell_type": "markdown",
   "metadata": {},
   "source": [
    "+++++++++++\n",
    "* Example"
   ]
  },
  {
   "cell_type": "code",
   "execution_count": 78,
   "metadata": {},
   "outputs": [],
   "source": [
    "import matplotlib.pyplot as plt\n",
    "import numpy as np\n",
    "\n",
    "from sklearn.linear_model import MultiTaskLasso, Lasso"
   ]
  },
  {
   "cell_type": "code",
   "execution_count": 80,
   "metadata": {},
   "outputs": [],
   "source": [
    "rng = np.random.RandomState(42)\n",
    "n_samples, n_features, n_tasks = 100, 30, 40\n",
    "n_relevant_features = 5\n",
    "\n",
    "coef = np.zeros((n_tasks, n_features))\n",
    "times = np.linspace(0, 2 * np.pi, n_tasks)\n",
    "\n",
    "for k in range(n_relevant_features):\n",
    "    coef[:, k] = np.sin((1 + rng.randn(1)) * times + 3 * rng.randn(1))"
   ]
  },
  {
   "cell_type": "code",
   "execution_count": 81,
   "metadata": {},
   "outputs": [],
   "source": [
    "X = rng.randn(n_samples, n_features)\n",
    "Y = np.dot(X, coef.T) + rng.randn(n_samples, n_tasks)"
   ]
  },
  {
   "cell_type": "code",
   "execution_count": 86,
   "metadata": {},
   "outputs": [],
   "source": [
    "coef_lasso_ = np.array([Lasso(alpha = 0.5).fit(X,y).coef_ for y in Y.T])\n",
    "\n",
    "coef_multi_task_lasso_ = MultiTaskLasso(alpha=1.0).fit(X, Y).coef_\n"
   ]
  },
  {
   "cell_type": "code",
   "execution_count": 87,
   "metadata": {},
   "outputs": [
    {
     "data": {
      "image/png": "[encoded data removed]",
      "text/plain": [
       "<Figure size 576x360 with 2 Axes>"
      ]
     },
     "metadata": {
      "needs_background": "light"
     },
     "output_type": "display_data"
    },
    {
     "data": {
      "image/png": "[encoded data removed]",
      "text/plain": [
       "<Figure size 432x288 with 1 Axes>"
      ]
     },
     "metadata": {
      "needs_background": "light"
     },
     "output_type": "display_data"
    }
   ],
   "source": [
    "# Plot support and time series\n",
    "fig = plt.figure(figsize=(8, 5))\n",
    "plt.subplot(1, 2, 1)\n",
    "plt.spy(coef_lasso_)\n",
    "plt.xlabel(\"Feature\")\n",
    "plt.ylabel(\"Time (or Task)\")\n",
    "plt.text(10, 5, \"Lasso\")\n",
    "plt.subplot(1, 2, 2)\n",
    "plt.spy(coef_multi_task_lasso_)\n",
    "plt.xlabel(\"Feature\")\n",
    "plt.ylabel(\"Time (or Task)\")\n",
    "plt.text(10, 5, \"MultiTaskLasso\")\n",
    "fig.suptitle(\"Coefficient non-zero location\")\n",
    "\n",
    "feature_to_plot = 0\n",
    "plt.figure()\n",
    "lw = 2\n",
    "plt.plot(coef[:, feature_to_plot], color=\"seagreen\", linewidth=lw, label=\"Ground truth\")\n",
    "plt.plot(\n",
    "    coef_lasso_[:, feature_to_plot], color=\"cornflowerblue\", linewidth=lw, label=\"Lasso\"\n",
    ")\n",
    "plt.plot(\n",
    "    coef_multi_task_lasso_[:, feature_to_plot],\n",
    "    color=\"gold\",\n",
    "    linewidth=lw,\n",
    "    label=\"MultiTaskLasso\",\n",
    ")\n",
    "plt.legend(loc=\"upper center\")\n",
    "plt.axis(\"tight\")\n",
    "plt.ylim([-1.1, 1.1])\n",
    "plt.show()"
   ]
  },
  {
   "cell_type": "markdown",
   "metadata": {},
   "source": [
    "### 1.1.5 Elastic-Net\n",
    "\n",
    "### 1.1.6 Multi-task Elastic_net\n",
    "\n",
    "### 1.1.7 Least Angle Regression\n",
    "Also known as LARS\n",
    "\n",
    "### 1.1.8 LARS Lasso\n",
    "Unlike the implementation based on coordinate descent, this yields the exact solution as a piecewise linear function of the norm and its coefficients"
   ]
  },
  {
   "cell_type": "code",
   "execution_count": 89,
   "metadata": {},
   "outputs": [
    {
     "data": {
      "text/plain": [
       "array([0.6, 0. ])"
      ]
     },
     "execution_count": 89,
     "metadata": {},
     "output_type": "execute_result"
    }
   ],
   "source": [
    "from sklearn import linear_model\n",
    "\n",
    "reg = linear_model.LassoLars(alpha = 0.1, normalize = False)\n",
    "reg.fit([[0,0], [1,1]], [0,1])\n",
    "\n",
    "reg.coef_"
   ]
  },
  {
   "cell_type": "markdown",
   "metadata": {},
   "source": [
    "+++++++++++++++++++++++++++++++++++\n",
    "\n",
    "Example - **Lasso path using LARS**"
   ]
  },
  {
   "cell_type": "code",
   "execution_count": 90,
   "metadata": {},
   "outputs": [],
   "source": [
    "import numpy as np\n",
    "import matplotlib.pyplot as plt\n",
    "\n",
    "from sklearn import linear_model\n",
    "from sklearn import datasets"
   ]
  },
  {
   "cell_type": "code",
   "execution_count": 91,
   "metadata": {},
   "outputs": [],
   "source": [
    "X, y = datasets.load_diabetes(return_X_y = True)"
   ]
  },
  {
   "cell_type": "code",
   "execution_count": 93,
   "metadata": {},
   "outputs": [
    {
     "name": "stdout",
     "output_type": "stream",
     "text": [
      "."
     ]
    }
   ],
   "source": [
    "#computing regularization path using LARS\n",
    "_, _, coefs = linear_model.lars_path(X, y, method = 'lasso', verbose = True)\n",
    "\n",
    "xx = np.sum(np.abs(coefs.T), axis = 1)\n",
    "xx /= xx[-1]"
   ]
  },
  {
   "cell_type": "code",
   "execution_count": 94,
   "metadata": {},
   "outputs": [
    {
     "data": {
      "image/png": "[encoded data removed]",
      "text/plain": [
       "<Figure size 432x288 with 1 Axes>"
      ]
     },
     "metadata": {
      "needs_background": "light"
     },
     "output_type": "display_data"
    }
   ],
   "source": [
    "plt.plot(xx, coefs.T)\n",
    "ymin, ymax = plt.ylim()\n",
    "plt.vlines(xx, ymin, ymax, linestyle=\"dashed\")\n",
    "plt.xlabel(\"|coef| / max|coef|\")\n",
    "plt.ylabel(\"Coefficients\")\n",
    "plt.title(\"LASSO Path\")\n",
    "plt.axis(\"tight\")\n",
    "plt.show()"
   ]
  },
  {
   "cell_type": "markdown",
   "metadata": {},
   "source": [
    "### 1.1.9 Orthogonal Matching Pursuit (OMP)"
   ]
  },
  {
   "cell_type": "code",
   "execution_count": 95,
   "metadata": {},
   "outputs": [],
   "source": [
    "import matplotlib.pyplot as plt\n",
    "import numpy as np\n",
    "\n",
    "from sklearn.linear_model import OrthogonalMatchingPursuit\n",
    "from sklearn.linear_model import OrthogonalMatchingPursuitCV\n",
    "\n",
    "from sklearn.datasets import make_sparse_coded_signal"
   ]
  },
  {
   "cell_type": "code",
   "execution_count": 102,
   "metadata": {},
   "outputs": [],
   "source": [
    "n_components, n_features = 512, 100\n",
    "n_nonzero_coefs = 17\n",
    "\n",
    "#generate the data\n",
    "y, X, w = make_sparse_coded_signal(n_samples = 1,\n",
    "                                  n_components = n_components,\n",
    "                                  n_features = n_features,\n",
    "                                  n_nonzero_coefs= n_nonzero_coefs,\n",
    "                                  random_state = 0,)\n",
    "\n",
    "(idx,) = w.nonzero()"
   ]
  },
  {
   "cell_type": "code",
   "execution_count": 103,
   "metadata": {},
   "outputs": [
    {
     "data": {
      "text/plain": [
       "array([-0.40342123,  0.11240896,  0.54639319,  0.03003388, -0.06436548,\n",
       "        0.48541692,  0.06591313,  0.91237347, -0.1555025 ,  0.10147145,\n",
       "       -0.42253433, -0.40796911, -0.37501376,  0.0476276 ,  0.52180477,\n",
       "        0.72811108, -0.26665926, -0.063533  , -0.0449216 ,  0.12222993,\n",
       "       -0.80890936, -0.0909473 ,  0.60038564,  0.46512957, -0.63265727,\n",
       "       -0.70168083,  0.03332405, -0.02825069, -1.15790404, -0.0284593 ,\n",
       "       -1.03641856, -0.06763479,  0.13928765,  0.28470179,  0.50363333,\n",
       "       -0.65626023, -0.22481343, -0.03315359, -0.15339506,  0.46653726,\n",
       "        0.09322094, -0.14101373,  0.00970106,  0.85601693, -0.72421847,\n",
       "        0.37551812,  0.18109788,  0.13296399,  0.63650967, -0.23512741,\n",
       "       -0.5455935 ,  0.52145401,  0.34333152,  0.2721521 ,  0.40912153,\n",
       "        0.5744767 ,  0.00720588,  1.39355494,  0.7059172 ,  0.31333372,\n",
       "        0.12430432,  0.13786939, -0.71249144, -1.15419638, -0.24272523,\n",
       "        0.03684655,  0.83478437, -0.37541997,  0.63940471,  0.29687842,\n",
       "        0.47247705,  0.97895061,  0.97164182, -0.38440534, -0.0514463 ,\n",
       "       -0.43909923,  0.59083308,  0.32331603, -0.51674587, -0.909289  ,\n",
       "        0.8869429 ,  0.17103545, -1.08394802, -0.62442039, -0.2444064 ,\n",
       "        0.33953313, -0.77278542, -0.0370449 , -0.63662655,  0.1273616 ,\n",
       "       -0.35252723, -0.7217292 , -0.08305696, -0.17401861,  0.87522435,\n",
       "       -0.88073527, -0.03141054,  0.12461403,  0.87765879,  0.38480581])"
      ]
     },
     "execution_count": 103,
     "metadata": {},
     "output_type": "execute_result"
    }
   ],
   "source": [
    "y"
   ]
  },
  {
   "cell_type": "code",
   "execution_count": 104,
   "metadata": {},
   "outputs": [
    {
     "data": {
      "text/plain": [
       "array([[ 0.16157379,  0.03962532,  0.10102463, ...,  0.13375648,\n",
       "         0.09499337,  0.15146072],\n",
       "       [-0.12202046, -0.19494186, -0.06813054, ...,  0.07205071,\n",
       "        -0.04429727, -0.12089598],\n",
       "       [ 0.15683414, -0.07843871, -0.10791829, ...,  0.0291649 ,\n",
       "        -0.02994296, -0.12758318],\n",
       "       ...,\n",
       "       [ 0.09398556,  0.11287435,  0.00604668, ..., -0.05279375,\n",
       "         0.09354535,  0.04583505],\n",
       "       [ 0.08923609, -0.05853369,  0.05261061, ..., -0.15081765,\n",
       "         0.04383746, -0.04648319],\n",
       "       [ 0.1859695 , -0.14272737,  0.04954196, ...,  0.15001472,\n",
       "         0.12343332, -0.0627607 ]])"
      ]
     },
     "execution_count": 104,
     "metadata": {},
     "output_type": "execute_result"
    }
   ],
   "source": [
    "X"
   ]
  },
  {
   "cell_type": "code",
   "execution_count": 105,
   "metadata": {},
   "outputs": [
    {
     "data": {
      "text/plain": [
       "array([ 46,  68,  76, 101, 123, 158, 195, 226, 227, 268, 269, 355, 359,\n",
       "       399, 467, 492, 494], dtype=int64)"
      ]
     },
     "execution_count": 105,
     "metadata": {},
     "output_type": "execute_result"
    }
   ],
   "source": [
    "idx"
   ]
  },
  {
   "cell_type": "code",
   "execution_count": 107,
   "metadata": {},
   "outputs": [],
   "source": [
    "#distort the clean signal\n",
    "y_noisy = y + 0.05 * np.random.randn(len(y))"
   ]
  },
  {
   "cell_type": "code",
   "execution_count": 108,
   "metadata": {},
   "outputs": [
    {
     "data": {
      "text/plain": [
       "<StemContainer object of 3 artists>"
      ]
     },
     "execution_count": 108,
     "metadata": {},
     "output_type": "execute_result"
    },
    {
     "data": {
      "image/png": "[encoded data removed]",
      "text/plain": [
       "<Figure size 504x504 with 1 Axes>"
      ]
     },
     "metadata": {
      "needs_background": "light"
     },
     "output_type": "display_data"
    }
   ],
   "source": [
    "# plot the sparse signal\n",
    "plt.figure(figsize=(7, 7))\n",
    "plt.subplot(4, 1, 1)\n",
    "plt.xlim(0, 512)\n",
    "plt.title(\"Sparse signal\")\n",
    "plt.stem(idx, w[idx], use_line_collection=True)"
   ]
  },
  {
   "cell_type": "code",
   "execution_count": 109,
   "metadata": {},
   "outputs": [],
   "source": [
    "#plot the noise-free reconstruction\n",
    "omp = OrthogonalMatchingPursuit(n_nonzero_coefs= n_nonzero_coefs, normalize = False)\n",
    "\n",
    "omp.fit(X, y)\n",
    "coef = omp.coef_\n",
    "(idx_r,) = coef.nonzero()"
   ]
  },
  {
   "cell_type": "code",
   "execution_count": 110,
   "metadata": {},
   "outputs": [
    {
     "data": {
      "text/plain": [
       "<StemContainer object of 3 artists>"
      ]
     },
     "execution_count": 110,
     "metadata": {},
     "output_type": "execute_result"
    },
    {
     "data": {
      "image/png": "[encoded data removed]",
      "text/plain": [
       "<Figure size 432x288 with 1 Axes>"
      ]
     },
     "metadata": {
      "needs_background": "light"
     },
     "output_type": "display_data"
    }
   ],
   "source": [
    "plt.subplot(4, 1, 2)\n",
    "plt.xlim(0, 512)\n",
    "plt.title(\"Recovered signal from noise-free measurements\")\n",
    "plt.stem(idx_r, coef[idx_r], use_line_collection=True)"
   ]
  },
  {
   "cell_type": "code",
   "execution_count": 111,
   "metadata": {},
   "outputs": [],
   "source": [
    "#plot the noisy reconstruction\n",
    "omp.fit(X, y_noisy)\n",
    "coef = omp.coef_\n",
    "(idx_r,) = coef.nonzero()"
   ]
  },
  {
   "cell_type": "code",
   "execution_count": 112,
   "metadata": {},
   "outputs": [
    {
     "data": {
      "text/plain": [
       "<StemContainer object of 3 artists>"
      ]
     },
     "execution_count": 112,
     "metadata": {},
     "output_type": "execute_result"
    },
    {
     "data": {
      "image/png": "[encoded data removed]",
      "text/plain": [
       "<Figure size 432x288 with 1 Axes>"
      ]
     },
     "metadata": {
      "needs_background": "light"
     },
     "output_type": "display_data"
    }
   ],
   "source": [
    "plt.subplot(4, 1, 3)\n",
    "plt.xlim(0, 512)\n",
    "plt.title(\"Recovered signal from noisy measurements\")\n",
    "plt.stem(idx_r, coef[idx_r], use_line_collection=True)"
   ]
  },
  {
   "cell_type": "code",
   "execution_count": 113,
   "metadata": {},
   "outputs": [],
   "source": [
    "#plot the noisy reconstruction ith number of non-zeros set by CV\n",
    "omp_cv = OrthogonalMatchingPursuitCV(normalize = False)\n",
    "omp_cv.fit(X, y_noisy)\n",
    "\n",
    "coef = omp_cv.coef_\n",
    "(idx_r,) = coef.nonzero()"
   ]
  },
  {
   "cell_type": "code",
   "execution_count": 117,
   "metadata": {},
   "outputs": [
    {
     "data": {
      "image/png": "[encoded data removed]",
      "text/plain": [
       "<Figure size 432x288 with 1 Axes>"
      ]
     },
     "metadata": {
      "needs_background": "light"
     },
     "output_type": "display_data"
    }
   ],
   "source": [
    "plt.subplot(4, 1, 4)\n",
    "plt.xlim(0, 512)\n",
    "plt.title(\"Recovered signal from noisy measurements with CV\")\n",
    "plt.stem(idx_r, coef[idx_r], use_line_collection=True)\n",
    "\n",
    "plt.subplots_adjust(0.06, 0.04, 0.94, 0.90, 0.20, 0.38)\n",
    "plt.suptitle(\"Sparse signal recovery with Orthogonal Matching Pursuit\", fontsize=16)\n",
    "plt.show()"
   ]
  },
  {
   "cell_type": "code",
   "execution_count": 116,
   "metadata": {},
   "outputs": [
    {
     "data": {
      "text/plain": [
       "<Figure size 432x288 with 0 Axes>"
      ]
     },
     "metadata": {},
     "output_type": "display_data"
    }
   ],
   "source": []
  },
  {
   "cell_type": "code",
   "execution_count": 118,
   "metadata": {},
   "outputs": [
    {
     "data": {
      "image/png": "[encoded data removed]",
      "text/plain": [
       "<Figure size 504x504 with 4 Axes>"
      ]
     },
     "metadata": {
      "needs_background": "light"
     },
     "output_type": "display_data"
    }
   ],
   "source": [
    "n_components, n_features = 512, 100\n",
    "n_nonzero_coefs = 17\n",
    "\n",
    "# generate the data\n",
    "\n",
    "# y = Xw\n",
    "# |x|_0 = n_nonzero_coefs\n",
    "\n",
    "y, X, w = make_sparse_coded_signal(\n",
    "    n_samples=1,\n",
    "    n_components=n_components,\n",
    "    n_features=n_features,\n",
    "    n_nonzero_coefs=n_nonzero_coefs,\n",
    "    random_state=0,\n",
    ")\n",
    "\n",
    "(idx,) = w.nonzero()\n",
    "\n",
    "# distort the clean signal\n",
    "y_noisy = y + 0.05 * np.random.randn(len(y))\n",
    "\n",
    "# plot the sparse signal\n",
    "plt.figure(figsize=(7, 7))\n",
    "plt.subplot(4, 1, 1)\n",
    "plt.xlim(0, 512)\n",
    "plt.title(\"Sparse signal\")\n",
    "plt.stem(idx, w[idx], use_line_collection=True)\n",
    "\n",
    "# plot the noise-free reconstruction\n",
    "omp = OrthogonalMatchingPursuit(n_nonzero_coefs=n_nonzero_coefs, normalize=False)\n",
    "omp.fit(X, y)\n",
    "coef = omp.coef_\n",
    "(idx_r,) = coef.nonzero()\n",
    "plt.subplot(4, 1, 2)\n",
    "plt.xlim(0, 512)\n",
    "plt.title(\"Recovered signal from noise-free measurements\")\n",
    "plt.stem(idx_r, coef[idx_r], use_line_collection=True)\n",
    "\n",
    "# plot the noisy reconstruction\n",
    "omp.fit(X, y_noisy)\n",
    "coef = omp.coef_\n",
    "(idx_r,) = coef.nonzero()\n",
    "plt.subplot(4, 1, 3)\n",
    "plt.xlim(0, 512)\n",
    "plt.title(\"Recovered signal from noisy measurements\")\n",
    "plt.stem(idx_r, coef[idx_r], use_line_collection=True)\n",
    "\n",
    "# plot the noisy reconstruction with number of non-zeros set by CV\n",
    "omp_cv = OrthogonalMatchingPursuitCV(normalize=False)\n",
    "omp_cv.fit(X, y_noisy)\n",
    "coef = omp_cv.coef_\n",
    "(idx_r,) = coef.nonzero()\n",
    "plt.subplot(4, 1, 4)\n",
    "plt.xlim(0, 512)\n",
    "plt.title(\"Recovered signal from noisy measurements with CV\")\n",
    "plt.stem(idx_r, coef[idx_r], use_line_collection=True)\n",
    "\n",
    "plt.subplots_adjust(0.06, 0.04, 0.94, 0.90, 0.20, 0.38)\n",
    "plt.suptitle(\"Sparse signal recovery with Orthogonal Matching Pursuit\", fontsize=16)\n",
    "plt.show()"
   ]
  },
  {
   "cell_type": "markdown",
   "metadata": {},
   "source": [
    "### 1.1.10 Bayesian Regression\n",
    "- adapts to the data at hand\n",
    "- can be used to include regularization parameters in the estimation procedure"
   ]
  },
  {
   "cell_type": "markdown",
   "metadata": {},
   "source": [
    "#### 1.1.10.1 Bayesian Ridge Regression"
   ]
  },
  {
   "cell_type": "code",
   "execution_count": 119,
   "metadata": {},
   "outputs": [],
   "source": [
    "from sklearn import linear_model"
   ]
  },
  {
   "cell_type": "code",
   "execution_count": 120,
   "metadata": {},
   "outputs": [],
   "source": [
    "X = [[0., 0.], [1., 1.], [2., 2.], [3., 3.]]\n",
    "Y = [0., 1., 2., 3.]"
   ]
  },
  {
   "cell_type": "code",
   "execution_count": 121,
   "metadata": {},
   "outputs": [
    {
     "data": {
      "text/plain": [
       "BayesianRidge()"
      ]
     },
     "execution_count": 121,
     "metadata": {},
     "output_type": "execute_result"
    }
   ],
   "source": [
    "reg = linear_model.BayesianRidge()\n",
    "reg.fit(X, Y)"
   ]
  },
  {
   "cell_type": "code",
   "execution_count": 123,
   "metadata": {},
   "outputs": [
    {
     "data": {
      "text/plain": [
       "array([0.50000013])"
      ]
     },
     "execution_count": 123,
     "metadata": {},
     "output_type": "execute_result"
    }
   ],
   "source": [
    "reg.predict([[1, 0.]])"
   ]
  },
  {
   "cell_type": "code",
   "execution_count": 124,
   "metadata": {},
   "outputs": [
    {
     "data": {
      "text/plain": [
       "array([0.49999993, 0.49999993])"
      ]
     },
     "execution_count": 124,
     "metadata": {},
     "output_type": "execute_result"
    }
   ],
   "source": [
    "reg.coef_"
   ]
  },
  {
   "cell_type": "code",
   "execution_count": null,
   "metadata": {},
   "outputs": [],
   "source": []
  }
 ],
 "metadata": {
  "kernelspec": {
   "display_name": "Python 3",
   "language": "python",
   "name": "python3"
  },
  "language_info": {
   "codemirror_mode": {
    "name": "ipython",
    "version": 3
   },
   "file_extension": ".py",
   "mimetype": "text/x-python",
   "name": "python",
   "nbconvert_exporter": "python",
   "pygments_lexer": "ipython3",
   "version": "3.8.5"
  }
 },
 "nbformat": 4,
 "nbformat_minor": 4
}
