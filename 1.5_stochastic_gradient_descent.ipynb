{
 "cells": [
  {
   "cell_type": "markdown",
   "metadata": {},
   "source": [
    "## 1.5 Stochastic Gradient Descent\n",
    "\n",
    "**Stochastic Gradient Descent** (SGD) is a simple and efficient apporach to fitting linear classifiers and regressors under convex loss functions, like linear *Support Vector Machines* and *Logistic Regression*.\n",
    "\n",
    "SGD has been applied to large-scale and sparse ML problems in text classification and natural language processing. Since the data is sparse, the classifiers here can easily scale to problems with 100K training examples and more than 100K features.\n",
    "\n",
    "Strictly speaking, SGD is an optimization technique and doesn't correspond to a specific family of ML models; rather it is a *way* to train a model. Often, an instance of `SGDClassifier` or `SGDRegressor` has an equivalent estimator in the scikit-learn API.\n",
    "\n",
    "For example, using `SGDClassifier(loss='log)` results in logistic regression, that is a model equivalent to `LogisticRegression` which is fitted via SGD rather than one of the other solvers.\n",
    "\n",
    "Advantages of Stochastic Gradient Descent:\n",
    "* Efficiency\n",
    "* Ease of implementation\n",
    "\n",
    "Disadvantages of SGD:\n",
    "* Requires lots of hyperparameters like the regularization parameter and the number of iterations\n",
    "* Sensitive to feature scaling\n",
    "\n",
    "**ALSO** be sure to permute (shuffle) your training data before fitting the model or use `shuffle=True` to shuffle after each iteration."
   ]
  },
  {
   "cell_type": "markdown",
   "metadata": {},
   "source": [
    "### 1.5.1 Classication\n",
    "\n",
    "The class `SGDClassifier` implements a plain SGD learning routine which supports different loss functions and penalties for classification. Like other classifiers, SGD needs to be fitted with two arrays:\n",
    "* array `X` of shape `(n_samples, n_features)` holding the training samples\n",
    "* array `y` of shape `(n_samples)` holding the target values (class labels) for the training samples\n",
    "\n",
    "Example:"
   ]
  },
  {
   "cell_type": "code",
   "execution_count": 1,
   "metadata": {},
   "outputs": [],
   "source": [
    "from sklearn.linear_model import SGDClassifier"
   ]
  },
  {
   "cell_type": "code",
   "execution_count": 2,
   "metadata": {},
   "outputs": [
    {
     "name": "stderr",
     "output_type": "stream",
     "text": [
      "C:\\ProgramData\\Anaconda3\\lib\\site-packages\\sklearn\\linear_model\\_stochastic_gradient.py:696: ConvergenceWarning: Maximum number of iteration reached before convergence. Consider increasing max_iter to improve the fit.\n",
      "  warnings.warn(\n"
     ]
    },
    {
     "data": {
      "text/plain": [
       "SGDClassifier(max_iter=5)"
      ]
     },
     "execution_count": 2,
     "metadata": {},
     "output_type": "execute_result"
    }
   ],
   "source": [
    "X = [[0,0],[1,1]]\n",
    "y = [0,1]\n",
    "\n",
    "clf = SGDClassifier(loss='hinge', penalty='l2', max_iter=5)\n",
    "clf.fit(X,y)"
   ]
  },
  {
   "cell_type": "markdown",
   "metadata": {},
   "source": [
    "After being fitted the model can predict new values:"
   ]
  },
  {
   "cell_type": "code",
   "execution_count": 3,
   "metadata": {},
   "outputs": [
    {
     "data": {
      "text/plain": [
       "array([1])"
      ]
     },
     "execution_count": 3,
     "metadata": {},
     "output_type": "execute_result"
    }
   ],
   "source": [
    "clf.predict([[2,2]])"
   ]
  },
  {
   "cell_type": "markdown",
   "metadata": {},
   "source": [
    "SGD fits a linear model to the training data. The `coef_` attribute holds the model parameters"
   ]
  },
  {
   "cell_type": "code",
   "execution_count": 4,
   "metadata": {},
   "outputs": [
    {
     "data": {
      "text/plain": [
       "array([[9.91080278, 9.91080278]])"
      ]
     },
     "execution_count": 4,
     "metadata": {},
     "output_type": "execute_result"
    }
   ],
   "source": [
    "clf.coef_"
   ]
  },
  {
   "cell_type": "markdown",
   "metadata": {},
   "source": [
    "The `intercept_` attribute holds the intercept (bias, offset)"
   ]
  },
  {
   "cell_type": "code",
   "execution_count": 5,
   "metadata": {},
   "outputs": [
    {
     "data": {
      "text/plain": [
       "array([-9.97004991])"
      ]
     },
     "execution_count": 5,
     "metadata": {},
     "output_type": "execute_result"
    }
   ],
   "source": [
    "clf.intercept_"
   ]
  },
  {
   "cell_type": "markdown",
   "metadata": {},
   "source": [
    "The signed distance to the hyperplane is `SGDClassifier.decision_function`"
   ]
  },
  {
   "cell_type": "code",
   "execution_count": 6,
   "metadata": {},
   "outputs": [
    {
     "data": {
      "text/plain": [
       "array([29.67316119])"
      ]
     },
     "execution_count": 6,
     "metadata": {},
     "output_type": "execute_result"
    }
   ],
   "source": [
    "clf.decision_function([[2,2]])"
   ]
  },
  {
   "cell_type": "markdown",
   "metadata": {},
   "source": [
    "`SGDClassifier` supports the following `loss=` parameter functions:\n",
    "* `loss = 'hinge'` soft-margin linear SVM\n",
    "* `loss = 'modified_huber'` smoothed hinge loss\n",
    "* `loss = 'log'` logistic regression\n",
    "* and other regression losses\n",
    "\n",
    "Using `loss='log'` or `loss='modified-huber'` enables the `predict_proba`\n",
    "method"
   ]
  },
  {
   "cell_type": "code",
   "execution_count": 7,
   "metadata": {},
   "outputs": [
    {
     "name": "stderr",
     "output_type": "stream",
     "text": [
      "C:\\ProgramData\\Anaconda3\\lib\\site-packages\\sklearn\\linear_model\\_stochastic_gradient.py:696: ConvergenceWarning: Maximum number of iteration reached before convergence. Consider increasing max_iter to improve the fit.\n",
      "  warnings.warn(\n"
     ]
    },
    {
     "data": {
      "text/plain": [
       "array([[4.97248476e-07, 9.99999503e-01]])"
      ]
     },
     "execution_count": 7,
     "metadata": {},
     "output_type": "execute_result"
    }
   ],
   "source": [
    "clf = SGDClassifier(loss='log', max_iter=5).fit(X, y)\n",
    "clf.predict_proba([[1,1]])"
   ]
  },
  {
   "cell_type": "markdown",
   "metadata": {},
   "source": [
    "SGD supports the following penalties:\n",
    "* `penalty = 'l2'` (default)\n",
    "* `penalty = 'l1'`\n",
    "* `penalty = 'elasticnet'`\n",
    "\n",
    "`SGDClassifier` supports multi-class classification by combining multiple binary classifiers in a \"one versus all\" (OVA) scheme.\n",
    "\n",
    "###### Example - SGD: maximum margin separating hyperplane"
   ]
  },
  {
   "cell_type": "code",
   "execution_count": 8,
   "metadata": {},
   "outputs": [],
   "source": [
    "import numpy as np\n",
    "import matplotlib.pyplot as plt\n",
    "\n",
    "from sklearn.linear_model import SGDClassifier\n",
    "from sklearn.datasets import make_blobs"
   ]
  },
  {
   "cell_type": "code",
   "execution_count": 9,
   "metadata": {},
   "outputs": [],
   "source": [
    "X, Y = make_blobs(n_samples=50, centers=2, random_state=0, cluster_std=0.60)"
   ]
  },
  {
   "cell_type": "code",
   "execution_count": 11,
   "metadata": {},
   "outputs": [
    {
     "data": {
      "text/plain": [
       "SGDClassifier(alpha=0.01, max_iter=200)"
      ]
     },
     "execution_count": 11,
     "metadata": {},
     "output_type": "execute_result"
    }
   ],
   "source": [
    "#instantiate and fit the model\n",
    "\n",
    "clf = SGDClassifier(loss='hinge', alpha=0.01, max_iter=200)\n",
    "clf.fit(X,Y)"
   ]
  },
  {
   "cell_type": "code",
   "execution_count": 12,
   "metadata": {},
   "outputs": [
    {
     "data": {
      "image/png": "[encoded data removed]",
      "text/plain": [
       "<Figure size 432x288 with 1 Axes>"
      ]
     },
     "metadata": {
      "needs_background": "light"
     },
     "output_type": "display_data"
    }
   ],
   "source": [
    "#copypasta\n",
    "# plot the line, the points, and the nearest vectors to the plane\n",
    "xx = np.linspace(-1, 5, 10)\n",
    "yy = np.linspace(-1, 5, 10)\n",
    "\n",
    "X1, X2 = np.meshgrid(xx, yy)\n",
    "Z = np.empty(X1.shape)\n",
    "for (i, j), val in np.ndenumerate(X1):\n",
    "    x1 = val\n",
    "    x2 = X2[i, j]\n",
    "    p = clf.decision_function([[x1, x2]])\n",
    "    Z[i, j] = p[0]\n",
    "levels = [-1.0, 0.0, 1.0]\n",
    "linestyles = [\"dashed\", \"solid\", \"dashed\"]\n",
    "colors = \"k\"\n",
    "plt.contour(X1, X2, Z, levels, colors=colors, linestyles=linestyles)\n",
    "plt.scatter(X[:, 0], X[:, 1], c=Y, cmap=plt.cm.Paired, edgecolor=\"black\", s=20)\n",
    "\n",
    "plt.axis(\"tight\")\n",
    "plt.show()"
   ]
  },
  {
   "cell_type": "markdown",
   "metadata": {},
   "source": [
    "###### Example - Plot multi-class SGD on the iris dataset\n",
    "https://scikit-learn.org/stable/auto_examples/linear_model/plot_sgd_iris.html#sphx-glr-auto-examples-linear-model-plot-sgd-iris-py\n",
    "\n",
    "###### Example - SGD: Weighted samples\n",
    "https://scikit-learn.org/stable/auto_examples/linear_model/plot_sgd_weighted_samples.html#sphx-glr-auto-examples-linear-model-plot-sgd-weighted-samples-py\n",
    "\n",
    "###### Example - Comparing various online solvers\n",
    "https://scikit-learn.org/stable/auto_examples/linear_model/plot_sgd_comparison.html#sphx-glr-auto-examples-linear-model-plot-sgd-comparison-py\n",
    "\n",
    "###### Example - SVM: Separating hyperplane for unbalanced classes\n",
    "https://scikit-learn.org/stable/auto_examples/svm/plot_separating_hyperplane_unbalanced.html#sphx-glr-auto-examples-svm-plot-separating-hyperplane-unbalanced-py"
   ]
  },
  {
   "cell_type": "markdown",
   "metadata": {},
   "source": [
    "### 1.5.2 Regression\n",
    "\n",
    "The class `SGDRegressor` implements a stochastic gradient descent learning routine which supports different loss functions and penalties to fit linear regression models. It's better for regression problems with a large number of training samples (>10,000), and for other problems it's recommended to use Ridge or Lasso or ElasticNet.\n",
    "\n",
    "`SGDRegressor` supports these loss functions:\n",
    "* `loss='squared_error'` Ordinary least squares\n",
    "* `loss='huber'` Huber loss for robust regression\n",
    "* `loss='epsilon_insensitive'` linear Support Vector Regression"
   ]
  },
  {
   "cell_type": "markdown",
   "metadata": {},
   "source": [
    "### 1.5.3 Online One-Class SVM\n",
    "### 1.5.4 Stochastic Gradient Descent for sparse data\n",
    "\n",
    "Note the sparse implementation produces slightly different results from the dense implementation, due to a shrunk learning rate for the intercept.\n",
    "\n",
    "There is built-in support for sparse data given in any matrix in a form supported by scipy.sparse\n",
    "\n",
    "###### Example: Classification of text documents using sparse features\n",
    "https://scikit-learn.org/stable/auto_examples/text/plot_document_classification_20newsgroups.html#sphx-glr-auto-examples-text-plot-document-classification-20newsgroups-py"
   ]
  },
  {
   "cell_type": "markdown",
   "metadata": {},
   "source": [
    "### 1.5.5 Complexity\n",
    "### 1.5.6 Stopping criterion\n",
    "\n",
    "The classes SGDClassifier and SGDRegressor provide two criteria to stop the algorithm wheb a given level of convergence is reached\n",
    "* `early_stopping=True` input data is split into training set and validation set, model is fitted on the training set, and stopping criterion is based on the prediction `score` computed on the validation set, the size of which can be changed with the parameter `validation_fraction` \n",
    "* `early_stopping=False` model is fitted on the entire input data and the stopping criterion is based on the objective function computed on the training data\n",
    "\n",
    "In both cases the criterion is evaluated once by epoch and the algorithm stops when the criterion does not improve `n_iter_no_change` times in a row. The improvement is evaluated with absolute tolerance `tol` and the algorithm stops after reaching `max_iter` iterations"
   ]
  },
  {
   "cell_type": "markdown",
   "metadata": {},
   "source": [
    "### 1.5.7 Tips on Practical Use\n",
    "* SGD is sensitive to feature scaling so it's highly recommended to scale the data\n",
    "* Finding a reasonable regularization term `alpha` is best done using hyper-parameter search like `GridSearchCV` or `RandomizedSearchCV`\n",
    "* SGD converges after observing ~1M training samples, so a reasonable guess for first number of iterations is `max_iter = np.ceil(10**6 / n)` where `n` is the size of the training set\n",
    "* If you apply SGD to features extracted using PCA, it's often helpful to scale the feature values by some constant `c` such that the average L2 norm of the training data equals one\n",
    "* Averaged SGD works best with a larger number of features and higher eta0"
   ]
  },
  {
   "cell_type": "markdown",
   "metadata": {},
   "source": [
    "### 1.5.8 Mathematical Formulation\n",
    "#### 1.5.8.1 SGD\n",
    "### 1.5.9 Implementation details"
   ]
  },
  {
   "cell_type": "code",
   "execution_count": null,
   "metadata": {},
   "outputs": [],
   "source": []
  }
 ],
 "metadata": {
  "kernelspec": {
   "display_name": "Python 3",
   "language": "python",
   "name": "python3"
  },
  "language_info": {
   "codemirror_mode": {
    "name": "ipython",
    "version": 3
   },
   "file_extension": ".py",
   "mimetype": "text/x-python",
   "name": "python",
   "nbconvert_exporter": "python",
   "pygments_lexer": "ipython3",
   "version": "3.8.5"
  }
 },
 "nbformat": 4,
 "nbformat_minor": 4
}
