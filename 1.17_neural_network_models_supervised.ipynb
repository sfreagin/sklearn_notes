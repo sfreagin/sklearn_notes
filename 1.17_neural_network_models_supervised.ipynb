{
 "cells": [
  {
   "cell_type": "markdown",
   "metadata": {},
   "source": [
    "## 1.17 Neural network models (supervised)\n",
    "\n",
    "> **Warning**: this implementation is for small-scale applications, not large scale. In particular, sklearn does not offer GPU support"
   ]
  },
  {
   "cell_type": "markdown",
   "metadata": {},
   "source": [
    "### 1.17.1 Multi-layer Perceptron\n",
    "\n",
    "A **multi-layer perceptron** (MLP) is a supervised learning algorithm that learns a function $f:R^{m}\\rightarrow R^{o}$ by training on a dataset where $m$ is the number of input dimensions and $o$ is the output dimensions. Given a feature matrix $X$ and target matrix $y$ it can learn a non-linear function approximator for either classification or regression.\n",
    "\n",
    "It differs from logistic regression as there can be hidden layers between the input and output layers\n",
    "\n",
    "Advantages of MLP:\n",
    "* capability to learn non-linear models\n",
    "* capability to learn models in real-time\n",
    "\n",
    "Disadvantages of MLP:\n",
    "* MLP with hidden layers have a non-convex loss function where there exists more than one local minimum, so different random weight initializations can lead to different validation accuracy\n",
    "* requires hyperparameters like number of hidden neurons, layer, iterations\n",
    "* sensitive to feature scaling"
   ]
  },
  {
   "cell_type": "markdown",
   "metadata": {},
   "source": [
    "### 1.17.2 Classification\n",
    "\n",
    "Example:"
   ]
  },
  {
   "cell_type": "code",
   "execution_count": 1,
   "metadata": {},
   "outputs": [],
   "source": [
    "from sklearn.neural_network import MLPClassifier"
   ]
  },
  {
   "cell_type": "code",
   "execution_count": 2,
   "metadata": {},
   "outputs": [],
   "source": [
    "X = [[0,0], [1,1]]\n",
    "y = [0,1]"
   ]
  },
  {
   "cell_type": "code",
   "execution_count": 3,
   "metadata": {},
   "outputs": [
    {
     "data": {
      "text/plain": [
       "MLPClassifier(alpha=1e-05, hidden_layer_sizes=(5, 2), random_state=1,\n",
       "              solver='lbfgs')"
      ]
     },
     "execution_count": 3,
     "metadata": {},
     "output_type": "execute_result"
    }
   ],
   "source": [
    "clf = MLPClassifier(solver='lbfgs', alpha=1e-5, hidden_layer_sizes=(5,2), random_state=1)\n",
    "clf.fit(X,y)"
   ]
  },
  {
   "cell_type": "code",
   "execution_count": 5,
   "metadata": {},
   "outputs": [
    {
     "data": {
      "text/plain": [
       "array([1, 0])"
      ]
     },
     "execution_count": 5,
     "metadata": {},
     "output_type": "execute_result"
    }
   ],
   "source": [
    "clf.predict([[2,2],[-1,-2]])"
   ]
  },
  {
   "cell_type": "markdown",
   "metadata": {},
   "source": [
    "MLP can fit a non-linear model to the training data, and `clf.coefs_` contains the weight matrices that constitute the model parameters:"
   ]
  },
  {
   "cell_type": "code",
   "execution_count": 6,
   "metadata": {},
   "outputs": [
    {
     "data": {
      "text/plain": [
       "[array([[-0.14196276, -0.02104562, -0.85522848, -3.51355396, -0.60434709],\n",
       "        [-0.69744683, -0.9347486 , -0.26422217, -3.35199017,  0.06640954]]),\n",
       " array([[ 0.29164405, -0.14147894],\n",
       "        [ 2.39665167, -0.6152434 ],\n",
       "        [-0.51650256,  0.51452834],\n",
       "        [ 4.0186541 , -0.31920293],\n",
       "        [ 0.32903482,  0.64394475]]),\n",
       " array([[-4.53025854],\n",
       "        [-0.86285329]])]"
      ]
     },
     "execution_count": 6,
     "metadata": {},
     "output_type": "execute_result"
    }
   ],
   "source": [
    "clf.coefs_"
   ]
  },
  {
   "cell_type": "code",
   "execution_count": 8,
   "metadata": {},
   "outputs": [
    {
     "data": {
      "text/plain": [
       "[(2, 5), (5, 2), (2, 1)]"
      ]
     },
     "execution_count": 8,
     "metadata": {},
     "output_type": "execute_result"
    }
   ],
   "source": [
    "[coef.shape for coef in clf.coefs_]"
   ]
  },
  {
   "cell_type": "markdown",
   "metadata": {},
   "source": [
    "MLP trains using **back propagation**; specifically, it trains using some form of gradient descent and the gradients are calculated using back propagation. For classification it minimizes the **cross-entropy** loss function, giving a vector of probability estimates $P(y|x)$ for each sample $x$:"
   ]
  },
  {
   "cell_type": "code",
   "execution_count": 9,
   "metadata": {},
   "outputs": [
    {
     "data": {
      "text/plain": [
       "array([[1.96718015e-04, 9.99803282e-01],\n",
       "       [1.96718015e-04, 9.99803282e-01]])"
      ]
     },
     "execution_count": 9,
     "metadata": {},
     "output_type": "execute_result"
    }
   ],
   "source": [
    "clf.predict_proba([[2,2],[1,2]])"
   ]
  },
  {
   "cell_type": "markdown",
   "metadata": {},
   "source": [
    "`MLPClassifier` supports multi-class classification using `Softmax` as the output function. It also supports multi-label classification where a sample can belong to more than one class"
   ]
  },
  {
   "cell_type": "code",
   "execution_count": 11,
   "metadata": {},
   "outputs": [
    {
     "data": {
      "text/plain": [
       "MLPClassifier(alpha=1e-05, hidden_layer_sizes=(15,), random_state=1,\n",
       "              solver='lbfgs')"
      ]
     },
     "execution_count": 11,
     "metadata": {},
     "output_type": "execute_result"
    }
   ],
   "source": [
    "X = [[0,0],[1,1]]\n",
    "y = [[0,1], [1,1]]\n",
    "\n",
    "clf = MLPClassifier(solver='lbfgs', alpha=1e-5, hidden_layer_sizes=(15,), random_state=1)\n",
    "clf.fit(X,y)"
   ]
  },
  {
   "cell_type": "code",
   "execution_count": 12,
   "metadata": {},
   "outputs": [
    {
     "data": {
      "text/plain": [
       "array([[1, 1]])"
      ]
     },
     "execution_count": 12,
     "metadata": {},
     "output_type": "execute_result"
    }
   ],
   "source": [
    "clf.predict([[1,2]])"
   ]
  },
  {
   "cell_type": "code",
   "execution_count": 13,
   "metadata": {},
   "outputs": [
    {
     "data": {
      "text/plain": [
       "array([[0, 1]])"
      ]
     },
     "execution_count": 13,
     "metadata": {},
     "output_type": "execute_result"
    }
   ],
   "source": [
    "clf.predict([[0,0]])"
   ]
  },
  {
   "cell_type": "markdown",
   "metadata": {},
   "source": [
    "###### Example - Compare Stochastic learning strategies for MLPClassifier\n",
    "https://scikit-learn.org/stable/auto_examples/neural_networks/plot_mlp_training_curves.html#sphx-glr-auto-examples-neural-networks-plot-mlp-training-curves-py\n",
    "\n",
    "###### Example - Visualization of MLP weights on MNIST\n",
    "https://scikit-learn.org/stable/auto_examples/neural_networks/plot_mnist_filters.html#sphx-glr-auto-examples-neural-networks-plot-mnist-filters-py"
   ]
  },
  {
   "cell_type": "code",
   "execution_count": 14,
   "metadata": {},
   "outputs": [],
   "source": [
    "import warnings\n",
    "import matplotlib.pyplot as plt\n",
    "\n",
    "from sklearn.datasets import fetch_openml\n",
    "from sklearn.exceptions import ConvergenceWarning\n",
    "from sklearn.neural_network import MLPClassifier\n",
    "from sklearn.model_selection import train_test_split"
   ]
  },
  {
   "cell_type": "code",
   "execution_count": 15,
   "metadata": {},
   "outputs": [],
   "source": [
    "#load data from openml\n",
    "X, y = fetch_openml('mnist_784', version=1, return_X_y=True, as_frame=False)\n",
    "X = X / 255.0\n",
    "\n",
    "#split\n",
    "X_train, X_test, y_train, y_test = train_test_split(X, y, random_state=0, test_size=0.7)"
   ]
  },
  {
   "cell_type": "code",
   "execution_count": 41,
   "metadata": {},
   "outputs": [
    {
     "name": "stdout",
     "output_type": "stream",
     "text": [
      "Iteration 1, loss = 0.44139186\n",
      "Iteration 2, loss = 0.19174891\n",
      "Iteration 3, loss = 0.13983521\n",
      "Iteration 4, loss = 0.11378556\n",
      "Iteration 5, loss = 0.09443967\n",
      "Iteration 6, loss = 0.07846529\n",
      "Iteration 7, loss = 0.06506307\n",
      "Iteration 8, loss = 0.05534985\n",
      "Iteration 9, loss = 0.04751107\n",
      "Iteration 10, loss = 0.03916272\n",
      "Iteration 11, loss = 0.03614981\n",
      "Iteration 12, loss = 0.03026311\n",
      "Training score: 0.991904761904762\n",
      "Test score: 0.9536734693877551\n"
     ]
    }
   ],
   "source": [
    "mlp = MLPClassifier(hidden_layer_sizes=(40,), max_iter=12, alpha=1e-4,\n",
    "                    solver='sgd', verbose=10, random_state=1, learning_rate_init=0.2)\n",
    "\n",
    "#example won't converge due to resource usage constraints\n",
    "#so catch the warning and ignore it\n",
    "with warnings.catch_warnings():\n",
    "    warnings.filterwarnings('ignore', category=ConvergenceWarning, module='sklearn')\n",
    "    mlp.fit(X_train, y_train)\n",
    "    \n",
    "print(f\"Training score: {mlp.score(X_train, y_train)}\")\n",
    "print(f'Test score: {mlp.score(X_test, y_test)}')"
   ]
  },
  {
   "cell_type": "code",
   "execution_count": 42,
   "metadata": {},
   "outputs": [
    {
     "data": {
      "image/png": "[encoded data removed]",
      "text/plain": [
       "<Figure size 432x288 with 16 Axes>"
      ]
     },
     "metadata": {},
     "output_type": "display_data"
    }
   ],
   "source": [
    "#COPYPASTA\n",
    "fig, axes = plt.subplots(4, 4)\n",
    "# use global min / max to ensure all weights are shown on the same scale\n",
    "vmin, vmax = mlp.coefs_[0].min(), mlp.coefs_[0].max()\n",
    "for coef, ax in zip(mlp.coefs_[0].T, axes.ravel()):\n",
    "    ax.matshow(coef.reshape(28, 28), cmap=plt.cm.gray, vmin=0.5 * vmin, vmax=0.5 * vmax)\n",
    "    ax.set_xticks(())\n",
    "    ax.set_yticks(())\n",
    "\n",
    "plt.show()"
   ]
  },
  {
   "cell_type": "markdown",
   "metadata": {},
   "source": [
    "### 1.17.3 Regression\n",
    "\n",
    "`MLPRegressor` also uses a multi-layer perceptron (MLP) that trains using backpropagation with no activation function in the output layer (*i.e.* using the identity function as an activation function). It uses squared error as the loss function and the output is a set of continuous values\n",
    "\n",
    "`MLPRegressor` also supports multi-output regression, where a sample can have more than one target"
   ]
  },
  {
   "cell_type": "markdown",
   "metadata": {},
   "source": [
    "### 1.17.4 Regularization\n",
    "\n",
    "Both `MLPClassifier` and `MLPRegressor` use the parameter `alpha` for L2 regularization to help avoid overfitting by penalizing weights with large magnitudes\n",
    "\n",
    "###### Example - Varying regularization in Multi-layer Perceptron\n",
    "https://scikit-learn.org/stable/auto_examples/neural_networks/plot_mlp_alpha.html#sphx-glr-auto-examples-neural-networks-plot-mlp-alpha-py"
   ]
  },
  {
   "cell_type": "markdown",
   "metadata": {},
   "source": [
    "### 1.17.5 Algorithms\n",
    "### 1.17.6 Complexity\n",
    "### 1.17.7 Mathematical formulation"
   ]
  },
  {
   "cell_type": "markdown",
   "metadata": {},
   "source": [
    "### 1.17.8 Tips on Practical Use\n",
    "\n",
    "* MLP is sensitive to feature scaling, so it is **highly recommended to scale your data** and note that you must apply the same scaling to both the training and test sets. You can use `StandardScaler`\n",
    "    * An alternative and recommended approach is using `StandardScaler` in a `Pipeline`\n",
    "* Finding a reasonable regularization parameter $\\alpha$ is best done using `GridSearchCV`\n",
    "* Empirically, `L-BFGS` converges better and faster on small datasets. \n",
    "    * `Adam` is better for larger datasets\n",
    "    * `SGD` with momentum performs better than both if the learning rate is correctly tuned"
   ]
  },
  {
   "cell_type": "markdown",
   "metadata": {},
   "source": [
    "#### 1.17.9 More control with warm_start\n",
    "\n",
    "Using `warm_start=True` with `max_iter=1` and iterating yourself can give you more control over stopping criteria or learning rate in SGD"
   ]
  },
  {
   "cell_type": "code",
   "execution_count": null,
   "metadata": {},
   "outputs": [],
   "source": []
  }
 ],
 "metadata": {
  "kernelspec": {
   "display_name": "Python 3",
   "language": "python",
   "name": "python3"
  },
  "language_info": {
   "codemirror_mode": {
    "name": "ipython",
    "version": 3
   },
   "file_extension": ".py",
   "mimetype": "text/x-python",
   "name": "python",
   "nbconvert_exporter": "python",
   "pygments_lexer": "ipython3",
   "version": "3.8.5"
  }
 },
 "nbformat": 4,
 "nbformat_minor": 4
}
