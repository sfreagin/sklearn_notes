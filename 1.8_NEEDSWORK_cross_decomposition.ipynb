{
 "cells": [
  {
   "cell_type": "markdown",
   "metadata": {},
   "source": [
    "# SECTION NEEDS WORK\n",
    "## 1.8 Cross decomposition\n",
    "\n",
    "### 1.8.1 PLSCanonical\n",
    "\n",
    "### 1.8.2 PLSSVD\n",
    "\n",
    "### 1.8.3 PLSRegression\n",
    "\n",
    "### 1.8.4 Canonical Correlation Analysis"
   ]
  },
  {
   "cell_type": "code",
   "execution_count": null,
   "metadata": {},
   "outputs": [],
   "source": []
  }
 ],
 "metadata": {
  "kernelspec": {
   "display_name": "Python 3",
   "language": "python",
   "name": "python3"
  },
  "language_info": {
   "name": ""
  }
 },
 "nbformat": 4,
 "nbformat_minor": 4
}
