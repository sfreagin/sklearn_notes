{
 "cells": [
  {
   "cell_type": "markdown",
   "metadata": {},
   "source": [
    "## 1.3 Kernel ridge regression\n",
    "\n",
    "**Kernel ridge regression** (KRR) combine *Ridge regression and classification* with the *kernel trick*.\n",
    "\n",
    "It thus learns a linear function in the space induced by the respective kernel and the data; for non-linear kernels this corresponds to a non-linear function in the original space.\n",
    "\n",
    "The form of the `KernelRidge` model is identical to support vector regression (`SVR`), but different loss function are used: KRR uses squared error loss and SVR uses epsilon-insensitive loss. Fitting KRR is closed-form and typically daster for medium-sized datasets, but the learned model is not sparse and so is slower than SVR (which learns a sparse model at prediction time)"
   ]
  },
  {
   "cell_type": "code",
   "execution_count": 1,
   "metadata": {},
   "outputs": [],
   "source": [
    "from sklearn.kernel_ridge import KernelRidge\n",
    "import numpy as np"
   ]
  },
  {
   "cell_type": "code",
   "execution_count": 2,
   "metadata": {},
   "outputs": [],
   "source": [
    "n_samples, n_features = 10, 5\n",
    "rng = np.random.RandomState(0)\n",
    "\n",
    "y = rng.randn(n_samples)\n",
    "X = rng.randn(n_samples, n_features)"
   ]
  },
  {
   "cell_type": "code",
   "execution_count": 3,
   "metadata": {},
   "outputs": [
    {
     "data": {
      "text/plain": [
       "KernelRidge(alpha=1.0)"
      ]
     },
     "execution_count": 3,
     "metadata": {},
     "output_type": "execute_result"
    }
   ],
   "source": [
    "krr = KernelRidge(alpha=1.0)\n",
    "krr.fit(X,y)"
   ]
  },
  {
   "cell_type": "code",
   "execution_count": null,
   "metadata": {},
   "outputs": [],
   "source": []
  },
  {
   "cell_type": "code",
   "execution_count": null,
   "metadata": {},
   "outputs": [],
   "source": [
    "    "
   ]
  }
 ],
 "metadata": {
  "kernelspec": {
   "display_name": "Python 3",
   "language": "python",
   "name": "python3"
  },
  "language_info": {
   "codemirror_mode": {
    "name": "ipython",
    "version": 3
   },
   "file_extension": ".py",
   "mimetype": "text/x-python",
   "name": "python",
   "nbconvert_exporter": "python",
   "pygments_lexer": "ipython3",
   "version": "3.8.5"
  }
 },
 "nbformat": 4,
 "nbformat_minor": 4
}
