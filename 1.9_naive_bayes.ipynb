{
 "cells": [
  {
   "cell_type": "markdown",
   "metadata": {},
   "source": [
    "## 1.9 Naive Bayes\n",
    "\n",
    "**Naive Bayes** methods are a set of supervised learning algorithms applying Bayes' theorem ith the *naive* assumption of conditional independence between every pair of features given the class variable.\n",
    "\n",
    "**Bayes' Theorem**\n",
    "For a class variable $y$ with dependent feature vectors $x_{1}$ to $x_{n}$, then:\n",
    "\n",
    "$P(y|x_{1},...,x_{n}) = \\frac{P(y)P(x_{1},...,x_{n}|y)}{P(x_{1},...,x_{n})}$ \n",
    "\n",
    "And Naive Bayes then uses the naive conditional independence assumption:\n",
    "\n",
    "$P(x_{i}|y, x_{1},...,x_{i-1},x_{i+1},...,x_{n}) = P(x_{i} | y)$\n",
    "\n",
    "**Although Naive Bayes is a decent classifier, it is known to be a bad estimator** and therefore the probability outputs from `predict_proba` should not be taken very seriously"
   ]
  },
  {
   "cell_type": "markdown",
   "metadata": {},
   "source": [
    "### 1.9.1 Gaussian Naive Bayes\n",
    "\n",
    "`GaussianNB` implements the Gaussian NB algorithm for classification, where the likelihood of the features is assumed to be Gaussian:\n",
    "\n",
    "$P(x_{i}|y) = \\frac{1}{\\sqrt{2\\pi\\sigma^{2}_{y}}}exp\\left(-\\frac{(x_{i}-\\mu_{y})^{2}}{2\\sigma^{2}_{y}}\\right)$\n",
    "\n",
    "Example:"
   ]
  },
  {
   "cell_type": "code",
   "execution_count": 1,
   "metadata": {},
   "outputs": [],
   "source": [
    "from sklearn.datasets import load_iris\n",
    "from sklearn.model_selection import train_test_split\n",
    "from sklearn.naive_bayes import GaussianNB"
   ]
  },
  {
   "cell_type": "code",
   "execution_count": 2,
   "metadata": {},
   "outputs": [],
   "source": [
    "X, y = load_iris(return_X_y = True)\n",
    "\n",
    "X_train, X_test, y_train, y_test = train_test_split(X, y, test_size=0.5, random_state=0)"
   ]
  },
  {
   "cell_type": "code",
   "execution_count": 3,
   "metadata": {},
   "outputs": [],
   "source": [
    "gnb = GaussianNB()\n",
    "\n",
    "y_pred = gnb.fit(X_train, y_train).predict(X_test)"
   ]
  },
  {
   "cell_type": "code",
   "execution_count": 4,
   "metadata": {},
   "outputs": [
    {
     "name": "stdout",
     "output_type": "stream",
     "text": [
      "Mislabeled points: 4 out of 75\n"
     ]
    }
   ],
   "source": [
    "print(f\"Mislabeled points: {(y_test != y_pred).sum()} out of {X_test.shape[0]}\")"
   ]
  },
  {
   "cell_type": "markdown",
   "metadata": {},
   "source": [
    "### 1.9.2 Multinomial Naive Bayes\n",
    "\n",
    "`MultinomialNB` implements the naive Bayes algorithm for multinomially distributed data, and is one of two class NB algorithms used in text classification (where data is typically represented as word vectors counts).\n",
    "\n",
    "### 1.9.3 Complement Naive Bayes\n",
    "\n",
    "`ComplementNB` implements the complement naive Bayes (CNB), which is an adaptation of the standard multinomial NB and which is particularly suited for imbalanced data sets. Specifically, CNB uses statistics from the *complement* of each class to compute the model's weights."
   ]
  },
  {
   "cell_type": "markdown",
   "metadata": {},
   "source": [
    "### 1.9.4 Bernoulli Naive Bayes\n",
    "\n",
    "`BernoulliNB` implements the NB training and classification algorithms for data that is distributed according to *multivariate Bernoulli distributions*; that is, there may be multiple features but each is assumed to be a binary-valued (boolean) variable.\n",
    "\n",
    "### 1.9.5 Categorical Naive Bayes\n",
    "\n",
    "`CategoricalNB` implements the categorical NB algorithm for categorically distributed data. It assumes each feature described by index $i$ has its on categorical distribution.\n",
    "\n",
    "### 1.9.6 Out-of-core naive Bayes model fitting\n",
    "\n",
    "NB models can be use for large-scale classication problems for which the full training set might not fit in memory."
   ]
  },
  {
   "cell_type": "code",
   "execution_count": null,
   "metadata": {},
   "outputs": [],
   "source": [
    "\n"
   ]
  }
 ],
 "metadata": {
  "kernelspec": {
   "display_name": "Python 3",
   "language": "python",
   "name": "python3"
  },
  "language_info": {
   "codemirror_mode": {
    "name": "ipython",
    "version": 3
   },
   "file_extension": ".py",
   "mimetype": "text/x-python",
   "name": "python",
   "nbconvert_exporter": "python",
   "pygments_lexer": "ipython3",
   "version": "3.8.5"
  }
 },
 "nbformat": 4,
 "nbformat_minor": 4
}
