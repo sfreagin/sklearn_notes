{
 "cells": [
  {
   "cell_type": "markdown",
   "metadata": {},
   "source": [
    "## 1.16 Probability Calibration\n",
    "\n",
    "https://scikit-learn.org/stable/modules/calibration.html\n",
    "\n",
    "### 1.16.1 Calibration curves\n",
    "### 1.16.2 Calibrating a classifier\n",
    "### 1.16.3 Usage\n",
    "\n",
    "#### 1.16.3.1 Sigmoid\n",
    "#### 1.16.3.2 Isotonic\n",
    "#### 1.16.3.3 Multiclass support"
   ]
  },
  {
   "cell_type": "code",
   "execution_count": null,
   "metadata": {},
   "outputs": [],
   "source": []
  }
 ],
 "metadata": {
  "kernelspec": {
   "display_name": "Python 3",
   "language": "python",
   "name": "python3"
  },
  "language_info": {
   "codemirror_mode": {
    "name": "ipython",
    "version": 3
   },
   "file_extension": ".py",
   "mimetype": "text/x-python",
   "name": "python",
   "nbconvert_exporter": "python",
   "pygments_lexer": "ipython3",
   "version": "3.8.5"
  }
 },
 "nbformat": 4,
 "nbformat_minor": 4
}
