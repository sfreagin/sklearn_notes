{
 "cells": [
  {
   "cell_type": "markdown",
   "metadata": {},
   "source": [
    "# SECTION NEEDS WORK\n",
    "## 1.7 Gaussian Processes\n",
    "\n",
    "**Gaussian Processes** are a generic supervised learning method for solving **regression** and **probabilistic classification** problem\n",
    "\n",
    "Advantages:\n",
    "* Prediction interpolates the observations\n",
    "* Prediction is probabilistic, Gaussian for computing confidence intervals and such\n",
    "* Versatile since different kernels can be specified\n",
    "\n",
    "Disadvantages:\n",
    "* They are not sparse\n",
    "* They lose efficiency in high-dimensional spaces, *e.g.* more than a few dozen features"
   ]
  },
  {
   "cell_type": "markdown",
   "metadata": {},
   "source": [
    "### 1.7.1 Gaussian Process Regression (GPR)\n",
    "\n",
    "### 1.7.2 GPR examples\n",
    "\n",
    "### 1.7.3 Gaussian Process Classifications (GPC)\n",
    "\n",
    "### 1.7.4 GPC examples\n",
    "\n",
    "### 1.7.5 Kernels for Gaussian processes"
   ]
  },
  {
   "cell_type": "code",
   "execution_count": null,
   "metadata": {},
   "outputs": [],
   "source": []
  }
 ],
 "metadata": {
  "kernelspec": {
   "display_name": "Python 3",
   "language": "python",
   "name": "python3"
  },
  "language_info": {
   "codemirror_mode": {
    "name": "ipython",
    "version": 3
   },
   "file_extension": ".py",
   "mimetype": "text/x-python",
   "name": "python",
   "nbconvert_exporter": "python",
   "pygments_lexer": "ipython3",
   "version": "3.8.5"
  }
 },
 "nbformat": 4,
 "nbformat_minor": 4
}
